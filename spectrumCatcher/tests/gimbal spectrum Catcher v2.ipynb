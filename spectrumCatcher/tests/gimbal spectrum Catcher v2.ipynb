{
 "cells": [
  {
   "cell_type": "code",
   "execution_count": 26,
   "metadata": {},
   "outputs": [],
   "source": [
    "%run setFormatter.ipynb\n",
    "import numpy as np\n",
    "import matplotlib.pyplot as plt\n",
    "import pandas as pd\n",
    "import imageio\n",
    "import math"
   ]
  },
  {
   "cell_type": "code",
   "execution_count": 27,
   "metadata": {},
   "outputs": [
    {
     "name": "stdout",
     "output_type": "stream",
     "text": [
      "origRGB   :unique count: 326\n",
      "json      :unique count: 326\n",
      "CSVfull   :unique count: 326\n",
      "CSVcrop   :unique count: 326\n",
      "CSVspec   :unique count: 326\n",
      "RGBwithPOV:unique count: 326\n",
      "BMPwithPOV:unique count: 326\n",
      "rawBMPs   :unique count: 326\n",
      "============================\n",
      "- incomplete shot: 20191221_111708 has no json\n",
      "==============================================\n",
      "In Given types, 325 unique shots in this Set.\n"
     ]
    }
   ],
   "source": [
    "Types = {\n",
    "    \"origRGB\"   : True,\n",
    "    \"json\"      : True,\n",
    "    \"rawBMPs\"   : True,\n",
    "    \"CSVfull\"   : True,\n",
    "    \"CSVcrop\"   : True,\n",
    "    \"CSVspec\"   : True,\n",
    "    \"RGBwithPOV\": True,\n",
    "    \"BMPwithPOV\": True,\n",
    "}\n",
    "# sf = SetFormatter('/home/garid/myGithub/spectrumCatcher/spectrumCatcher/tests/20201111', Types)\n",
    "sf = SetFormatter('/home/garid/myGithub/spectrumCatcher/spectrumCatcher/tests/dname1221/13h_', Types)\n",
    "sf.read_ids(Types, display=True)"
   ]
  },
  {
   "cell_type": "code",
   "execution_count": 18,
   "metadata": {
    "scrolled": false
   },
   "outputs": [],
   "source": [
    "_ = sf.shots[10].readWhite(display = False)\n",
    "azi, pit, rol = float(sf.shots[10].jsonDic['Azimuth']),float(sf.shots[10].jsonDic['Pitch']),float(sf.shots[10].jsonDic['Roll'])"
   ]
  },
  {
   "cell_type": "code",
   "execution_count": 23,
   "metadata": {},
   "outputs": [],
   "source": [
    "def QuaternionFromEuler(Roll, Pitch, Yaw):\n",
    "    cRoll = math.cos(Roll/2)\n",
    "    cPitch = math.cos(Pitch/2)\n",
    "    cYaw = math.cos(Yaw/2)\n",
    "    sRoll = math.sin(Roll/2)\n",
    "    sPitch = math.sin(Pitch/2)\n",
    "    sYaw = math.sin(Yaw/2)\n",
    "    Quaternion = np.empty(4)\n",
    "    Quaternion[0] = cRoll*cPitch*cYaw + sYaw*sPitch*sYaw\n",
    "    Quaternion[1] = sRoll*cPitch*cYaw - cRoll*sPitch*sYaw\n",
    "    Quaternion[2] = cRoll*sPitch*cYaw + cYaw*cPitch*sYaw\n",
    "    Quaternion[3] = cRoll*cPitch*sYaw - sRoll*sPitch*cYaw\n",
    "    return Quaternion"
   ]
  },
  {
   "cell_type": "code",
   "execution_count": 25,
   "metadata": {},
   "outputs": [
    {
     "data": {
      "text/plain": [
       "array([-0.79273217,  0.78640478,  0.38985448,  0.05010347])"
      ]
     },
     "execution_count": 25,
     "metadata": {},
     "output_type": "execute_result"
    }
   ],
   "source": [
    "QuaternionFromEuler(rol, pit, azi)"
   ]
  },
  {
   "cell_type": "code",
   "execution_count": 33,
   "metadata": {},
   "outputs": [],
   "source": [
    "apr= np.zeros((325, 3))\n",
    "for i in range(325):\n",
    "    azi, pit, rol = float(sf.shots[i].jsonDic['Azimuth']),float(sf.shots[i].jsonDic['Pitch']),float(sf.shots[i].jsonDic['Roll'])\n",
    "    apr[i,0] = azi\n",
    "    apr[i,1] = pit\n",
    "    apr[i,2] = rol"
   ]
  },
  {
   "cell_type": "code",
   "execution_count": 34,
   "metadata": {},
   "outputs": [],
   "source": [
    "np.save('apr', apr)"
   ]
  },
  {
   "cell_type": "code",
   "execution_count": null,
   "metadata": {},
   "outputs": [],
   "source": []
  }
 ],
 "metadata": {
  "kernelspec": {
   "display_name": "Python 3",
   "language": "python",
   "name": "python3"
  },
  "language_info": {
   "codemirror_mode": {
    "name": "ipython",
    "version": 3
   },
   "file_extension": ".py",
   "mimetype": "text/x-python",
   "name": "python",
   "nbconvert_exporter": "python",
   "pygments_lexer": "ipython3",
   "version": "3.6.9"
  }
 },
 "nbformat": 4,
 "nbformat_minor": 2
}
