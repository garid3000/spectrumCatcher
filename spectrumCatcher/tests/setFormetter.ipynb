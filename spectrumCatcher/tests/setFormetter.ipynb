{
 "cells": [
  {
   "cell_type": "code",
   "execution_count": 319,
   "metadata": {},
   "outputs": [],
   "source": [
    "import sys\n",
    "import os\n",
    "import json\n",
    "import pickle\n",
    "import shutil\n",
    "import numpy as np\n",
    "import pandas as pd\n",
    "\n",
    "\n",
    "class SingleShot(object):\n",
    "    \"\"\"docstring for singleShot\"\"\"\n",
    "    def __init__(self, id,\n",
    "                 origRGB_dir, json_dir, rawBMPs_dirs, CSVfull_dir, \n",
    "                 CSVcrop_dir, CSVspec_dir, RGBwithPOV_dir, BMPwithPOV_dir):\n",
    "        self.id       = id\n",
    "        \n",
    "        self.origRGB_dir      = origRGB_dir\n",
    "        self.json_dir         = json_dir\n",
    "        self.rawBMPs_dirs     = rawBMPs_dirs\n",
    "        self.numBMPs          = len(self.rawBMPs_dirs) if self.rawBMPs_dirs else 0\n",
    "        \n",
    "        self.CSVcrop_dir    = CSVcrop_dir\n",
    "        self.CSVfull_dir    = CSVfull_dir\n",
    "        self.CSVspec_dir    = CSVspec_dir\n",
    "        self.RGBwithPOV_dir = RGBwithPOV_dir\n",
    "        self.BMPwithPOV_dir = BMPwithPOV_dir\n",
    "        \n",
    "        self.jsonDic = None\n",
    "        if self.json_dir != None:\n",
    "            if os.path.isfile(self.json_dir):\n",
    "                file = open(self.json_dir, 'r', encoding = 'utf-8')\n",
    "                self.jsonDic = json.loads(file.read())\n",
    "                file.close()\n",
    "\n"
   ]
  },
  {
   "cell_type": "code",
   "execution_count": 320,
   "metadata": {},
   "outputs": [],
   "source": [
    "class SetFormatter():\n",
    "    def __init__(self, directory, typeDictionary = None, from_gry = False):\n",
    "        self.dir = directory\n",
    "        self.dir_pcGen = os.path.join(self.dir, 'pcGen')\n",
    "        self.dir_pickle = os.path.join(self.dir, 'pcGen', 'dir_pickle.gry')\n",
    "        self.dir_pcGen_ref = os.path.join(self.dir, 'pcGen', 'reflection.gry')\n",
    "        if not from_gry:\n",
    "            self.Types = {}          #mostly associated with the downloading types\n",
    "            self.usingTypes = {}     #mostly associated with the types you want to use in your work\n",
    "            self.allFnames = {}\n",
    "            self.setWhichTypes(typeDictionary)\n",
    "            self.checkFiles()\n",
    "            self.usingUniqueID_inSeperateBuckets = []\n",
    "            self.numShots = 0\n",
    "            self.shots = []\n",
    "            self.ratio = pd.read_csv(\"ratio.csv\")\n",
    "\n",
    "            self.from_webGen  = 0\n",
    "            self.from_rawBMPs = 1\n",
    "        else:\n",
    "            self.load(self.dir_pickle)\n",
    "        \n",
    "    def setWhichTypes(self, tmpdict):\n",
    "        self.Types['origRGB']    = tmpdict['origRGB']    if (\"origRGB\"    in tmpdict) else False\n",
    "        self.Types['json']       = tmpdict['json']       if (\"json\"       in tmpdict) else False\n",
    "        self.Types['rawBMPs']    = tmpdict['rawBMPs']    if (\"rawBMPs\"    in tmpdict) else False\n",
    "        self.Types['CSVfull']    = tmpdict['CSVfull']    if (\"CSVfull\"    in tmpdict) else False\n",
    "        self.Types['CSVcrop']    = tmpdict['CSVcrop']    if (\"CSVcrop\"    in tmpdict) else False\n",
    "        self.Types['CSVspec']    = tmpdict['CSVspec']    if (\"CSVspec\"    in tmpdict) else False\n",
    "        self.Types['RGBwithPOV'] = tmpdict['RGBwithPOV'] if (\"RGBwithPOV\" in tmpdict) else False\n",
    "        self.Types['BMPwithPOV'] = tmpdict['BMPwithPOV'] if (\"BMPwithPOV\" in tmpdict) else False\n",
    "        \n",
    "    def dir_origRGB(self, ID):\n",
    "        os.path.join(directory, '{}.jpg'.format(ID))\n",
    "    def dir_json(self, ID):\n",
    "        os.path.join(directory, '{}.json'.format(ID))\n",
    "    def dir_rawBMPs(self, ID, i_th):\n",
    "        os.path.join(directory, 'rawBMPs', '{}_{}.bmp'.format(ID,i_th))\n",
    "    def dir_CSVfull(self, ID):\n",
    "        os.path.join(directory, 'webGen', '{}_full.csv'.format(ID))\n",
    "    def dir_CSVcrop(self, ID):\n",
    "        os.path.join(directory, 'webGen', '{}_crop.csv'.format(ID))\n",
    "    def dir_CSVspec(self, ID):\n",
    "        os.path.join(directory, 'webGen', '{}_spec_NDVI.csv'.format(ID))\n",
    "    def dir_RGBwithPOV(self, ID):\n",
    "        os.path.join(directory, 'webGen', '{}.jpeg'.format(ID))\n",
    "    def dir_BMPwithPOV(self, ID):\n",
    "        os.path.join(directory, 'webGen', '{}.png'.format(ID))\n",
    "    \n",
    "    def checkFiles(self):\n",
    "        self.allFnames['origRGB']    = [s for s in os.listdir(self.dir) if os.path.isfile(os.path.join(self.dir, s)) and '.jpg' in s]\n",
    "        self.allFnames['json']       = [s for s in os.listdir(self.dir) if os.path.isfile(os.path.join(self.dir, s)) and '.json' in s]\n",
    "        self.allFnames['rawBMPs']    = [s for s in os.listdir(os.path.join(self.dir,'rawBMPs')) if os.path.isfile(os.path.join(self.dir,'rawBMPs',s)) and '.bmp'           in s]\n",
    "        self.allFnames['CSVfull']    = [s for s in os.listdir(os.path.join(self.dir, 'webGen')) if os.path.isfile(os.path.join(self.dir, 'webGen',s)) and '_full.csv'      in s]\n",
    "        self.allFnames['CSVcrop']    = [s for s in os.listdir(os.path.join(self.dir, 'webGen')) if os.path.isfile(os.path.join(self.dir, 'webGen',s)) and '_crop.csv'      in s]\n",
    "        self.allFnames['CSVspec']    = [s for s in os.listdir(os.path.join(self.dir, 'webGen')) if os.path.isfile(os.path.join(self.dir, 'webGen',s)) and '_spec_NDVI.csv' in s]\n",
    "        self.allFnames['RGBwithPOV'] = [s for s in os.listdir(os.path.join(self.dir, 'webGen')) if os.path.isfile(os.path.join(self.dir, 'webGen',s)) and '.jpeg'          in s]\n",
    "        self.allFnames['BMPwithPOV'] = [s for s in os.listdir(os.path.join(self.dir, 'webGen')) if os.path.isfile(os.path.join(self.dir, 'webGen',s)) and '.png'           in s]\n",
    "    \n",
    "    def cleanFiles(self):\n",
    "        for s in os.listdir(self.dir):\n",
    "            ss = os.path.join(self.dir, s)\n",
    "\n",
    "            if os.path.isfile(ss):\n",
    "                if not (s in self.allFnames['origRGB'] or \n",
    "                        s in self.allFnames['json']):\n",
    "                    print(\"removed file:\", s)\n",
    "                    os.remove(ss)\n",
    "            if os.path.isdir(ss):\n",
    "                if (not s == \"rawBMPs\") and (not s == \"webGen\"):\n",
    "                    shutil.rmtree(ss)\n",
    "                    print(\"removed directory:\", s)\n",
    "                    \n",
    "        tmpdir = os.path.join(self.dir, 'rawBMPs')\n",
    "        for s in os.listdir(tmpdir):\n",
    "            ss = os.path.join(tmpdir, s)\n",
    "            if os.path.isfile(ss):\n",
    "                if not (s in self.allFnames['rawBMPs']):\n",
    "                    print(\"removed file: rawBMPs/\", s)\n",
    "                    os.remove(ss)                \n",
    "            if os.path.isdir(ss):\n",
    "                shutil.rmtree(ss)\n",
    "                print(\"removed directory: rawBMPs/\", s) \n",
    "        \n",
    "        tmpdir = os.path.join(self.dir, 'webGen')\n",
    "        for s in os.listdir(tmpdir):\n",
    "            ss = os.path.join(tmpdir, s)\n",
    "            if os.path.isfile(ss):\n",
    "                if not (s in self.allFnames['CSVfull'] or \n",
    "                        s in self.allFnames['CSVcrop'] or \n",
    "                        s in self.allFnames['CSVspec'] or \n",
    "                        s in self.allFnames['RGBwithPOV'] or \n",
    "                        s in self.allFnames['BMPwithPOV']):\n",
    "                    print(\"removed file: webGen/\", s)\n",
    "                    os.remove(ss)                \n",
    "            if os.path.isdir(ss):\n",
    "                shutil.rmtree(ss)\n",
    "                print(\"removed directory: webGen/\", s) \n",
    "    def read_ids(self, tmpdict, display = False):\n",
    "        self.usingTypes['origRGB']    = tmpdict['origRGB']    if (\"origRGB\"    in tmpdict) else False\n",
    "        self.usingTypes['json']       = tmpdict['json']       if (\"json\"       in tmpdict) else False\n",
    "        self.usingTypes['rawBMPs']    = tmpdict['rawBMPs']    if (\"rawBMPs\"    in tmpdict) else False\n",
    "        self.usingTypes['CSVfull']    = tmpdict['CSVfull']    if (\"CSVfull\"    in tmpdict) else False\n",
    "        self.usingTypes['CSVcrop']    = tmpdict['CSVcrop']    if (\"CSVcrop\"    in tmpdict) else False\n",
    "        self.usingTypes['CSVspec']    = tmpdict['CSVspec']    if (\"CSVspec\"    in tmpdict) else False\n",
    "        self.usingTypes['RGBwithPOV'] = tmpdict['RGBwithPOV'] if (\"RGBwithPOV\" in tmpdict) else False\n",
    "        self.usingTypes['BMPwithPOV'] = tmpdict['BMPwithPOV'] if (\"BMPwithPOV\" in tmpdict) else False\n",
    "        \n",
    "        self.usingUniqueID_inSeperateBuckets = []  #unique IDs over all set files (in seperate in their file types)\n",
    "        if self.usingTypes['origRGB']:\n",
    "            self.usingUniqueID_inSeperateBuckets.append([fname.split('.')[0]  for fname in self.allFnames['origRGB']])\n",
    "            print((\"origRGB   :unique count: {}\\n\".format(len(self.usingUniqueID_inSeperateBuckets[-1])) if display else ''),  end='')\n",
    "        if self.usingTypes['json']:\n",
    "            self.usingUniqueID_inSeperateBuckets.append([fname.split('.')[0]  for fname in self.allFnames['json']])\n",
    "            print((\"json      :unique count: {}\\n\".format(len(self.usingUniqueID_inSeperateBuckets[-1])) if display else ''),  end='')\n",
    "        if self.usingTypes['CSVfull']:\n",
    "            self.usingUniqueID_inSeperateBuckets.append([fname.split('_')[0] + '_'+ fname.split('_')[1]  for fname in self.allFnames['CSVfull']])\n",
    "            print((\"CSVfull   :unique count: {}\\n\".format(len(self.usingUniqueID_inSeperateBuckets[-1])) if display else ''),  end='')\n",
    "        if self.usingTypes['CSVcrop']:\n",
    "            self.usingUniqueID_inSeperateBuckets.append([fname.split('_')[0] + '_'+ fname.split('_')[1]  for fname in self.allFnames['CSVcrop']])\n",
    "            print((\"CSVcrop   :unique count: {}\\n\".format(len(self.usingUniqueID_inSeperateBuckets[-1])) if display else ''),  end='')\n",
    "        if self.usingTypes['CSVspec']:\n",
    "            self.usingUniqueID_inSeperateBuckets.append([fname.split('_')[0] + '_'+ fname.split('_')[1]  for fname in self.allFnames['CSVspec']])\n",
    "            print((\"CSVspec   :unique count: {}\\n\".format(len(self.usingUniqueID_inSeperateBuckets[-1])) if display else ''),  end='')\n",
    "        if self.usingTypes['RGBwithPOV']:\n",
    "            self.usingUniqueID_inSeperateBuckets.append([fname.split('.')[0]  for fname in self.allFnames['RGBwithPOV']])\n",
    "            print((\"RGBwithPOV:unique count: {}\\n\".format(len(self.usingUniqueID_inSeperateBuckets[-1])) if display else ''),  end='')\n",
    "        if self.usingTypes['BMPwithPOV']:\n",
    "            self.usingUniqueID_inSeperateBuckets.append([fname.split('.')[0]  for fname in self.allFnames['BMPwithPOV']])\n",
    "            print((\"BMPwithPOV:unique count: {}\\n\".format(len(self.usingUniqueID_inSeperateBuckets[-1])) if display else ''),  end='')\n",
    "        if self.usingTypes['rawBMPs']:\n",
    "            self.usingUniqueID_inSeperateBuckets.append(list(set([fname.split('_')[0] + '_'+ fname.split('_')[1]  for fname in self.allFnames['rawBMPs']])))\n",
    "            print((\"rawBMPs   :unique count: {}\\n\".format(len(self.usingUniqueID_inSeperateBuckets[-1])) if display else ''),  end='')\n",
    "            #self.usingUniqueID_inSeperateBuckets.append([fname.split('.')[0]  for fname in self.allFnames['rawBMPs']])\n",
    "            #since rawBMPs have multiple files in a single shot, and I want only ID's so I did following\n",
    "        \n",
    "        #now calculating unique IDs over all set of files\n",
    "        print((\"============================\\n\" if display else ''),  end='')\n",
    "\n",
    "        self.usingUniqueIDs = []\n",
    "        Tmp = len(self.usingUniqueID_inSeperateBuckets)\n",
    "        for i in range(len(self.usingUniqueID_inSeperateBuckets[0])):\n",
    "            tmpID = self.usingUniqueID_inSeperateBuckets[0][i]\n",
    "            tmpbool = True\n",
    "            for t in range(1,Tmp):\n",
    "                tmpbool = tmpbool and (tmpID in self.usingUniqueID_inSeperateBuckets[t])\n",
    "                if not tmpbool:\n",
    "                    print((\"- incomplete shot: {} has no {}\\n\".format(tmpID, list(tmpdict.keys())[t]) if display else ''),  end='')\n",
    "                    break\n",
    "            if tmpbool:\n",
    "                self.usingUniqueIDs.append(tmpID)\n",
    "           \n",
    "        self.usingUniqueIDs.sort()\n",
    "        self.numShots = len(self.usingUniqueIDs)\n",
    "        print((\"==============================================\\nIn Given types, {} unique shots in this Set.\\n\".format(self.numShots) if display else ''),  end='')\n",
    "        \n",
    "        \n",
    "        for i in range(self.numShots):\n",
    "            tmpid       = self.usingUniqueIDs[i]\n",
    "            tmp_dirorigRGB = os.path.join(self.dir,  '{}.jpg'.format(tmpid)) if self.usingTypes['origRGB']    else None\n",
    "            tmp_dirjson    = os.path.join(self.dir, '{}.json'.format(tmpid)) if self.usingTypes['json']       else None\n",
    "            tmp_dirrawBMPs = [(os.path.join(sf.dir,'rawBMPs', fnamebmps)) for fnamebmps in os.listdir(os.path.join(sf.dir,'rawBMPs')) if tmpid in fnamebmps] \n",
    "\n",
    "            #tmp_dirrawBMPs = os.path.join(self.dir,'rawBMPs', '{}.jpeg'.format(tmpid)) if self.usingTypes['rawBMPs']    else None\n",
    "            tmp_dirCSVfull = os.path.join(self.dir,'webGen',  '{}_full.csv'.format(tmpid)) if self.usingTypes['CSVfull']    else None\n",
    "            tmp_dirCSVcrop = os.path.join(self.dir,'webGen',  '{}_crop.csv'.format(tmpid)) if self.usingTypes['CSVcrop']    else None\n",
    "            tmp_dirCSVspec = os.path.join(self.dir,'webGen',  '{}_spec_NDVI.csv'.format(tmpid)) if self.usingTypes['CSVspec']    else None\n",
    "            tmp_RGBwithPOV = os.path.join(self.dir,'webGen',  '{}.jpeg'.format(tmpid)) if self.usingTypes['RGBwithPOV'] else None\n",
    "            tmp_BMPwithPOV = os.path.join(self.dir,'webGen',   '{}.png'.format(tmpid)) if self.usingTypes['BMPwithPOV'] else None\n",
    "            self.shots.append(SingleShot(id             = tmpid,\n",
    "                                         origRGB_dir    = tmp_dirorigRGB, \n",
    "                                         json_dir       = tmp_dirjson, \n",
    "                                         rawBMPs_dirs   = tmp_dirrawBMPs, \n",
    "                                         CSVfull_dir    = tmp_dirCSVfull, \n",
    "                                         CSVcrop_dir    = tmp_dirCSVcrop,\n",
    "                                         CSVspec_dir    = tmp_dirCSVspec,\n",
    "                                         RGBwithPOV_dir = tmp_RGBwithPOV,\n",
    "                                         BMPwithPOV_dir = tmp_BMPwithPOV,\n",
    "                                        ))\n",
    "    def mkdir_pcGen(self):\n",
    "        if not (os.path.isdir(self.dir_pcGen)):\n",
    "            os.mkdir(self.dir_pcGen)\n",
    "            \n",
    "    def compose_pcGen_setWave(self, source, display = False):\n",
    "        self.mkdir_pcGen()\n",
    "        if self.numShots == 0:\n",
    "            print(\"None shots in the folder\")\n",
    "            return\n",
    "        if (source == self.from_webGen):\n",
    "            print((\"Composing wavelengths from webGen\\n\" if display else ''), end = '')\n",
    "            self.setWave = np.zeros((self.numShots, 1,280))\n",
    "            for i in range(self.numShots):\n",
    "                tmpPdWeb = pd.read_csv(self.shots[i].CSVfull_dir)\n",
    "                self.setWave[i,0,:]  = np.array(pd.read_csv(self.shots[i].CSVfull_dir)['WAVELENGTH'])\n",
    "            np.save(os.path.join(self.dir_pcGen, 'setWave'), self.setWave)\n",
    "            print((\"Saved as pcGen/setWave.npy\\n\" if display else ''), end = '')\n",
    "            return\n",
    "        elif (source == self.from_rawBMPs):\n",
    "            pass\n",
    "        \n",
    "    def compose_pcGen_setGray(self, source, display = False):\n",
    "        self.mkdir_pcGen()\n",
    "        if self.numShots == 0:\n",
    "            print(\"None shots in the folder\")\n",
    "            return\n",
    "        if (source == self.from_webGen):\n",
    "            print((\"Composing Gray pixel values from webGen\\n\" if display else ''), end = '')\n",
    "            self.setGray = np.zeros((self.numShots, 1,280))\n",
    "            for i in range(self.numShots):\n",
    "                tmpPdWeb = pd.read_csv(self.shots[i].CSVfull_dir)\n",
    "                self.setGray[i,0,:]  = np.array(pd.read_csv(self.shots[i].CSVfull_dir)['GRAY'])\n",
    "            np.save(os.path.join(self.dir_pcGen, 'setGray'), self.setGray)\n",
    "            print((\"Saved as pcGen/setGray.npy\\n\" if display else ''), end = '')\n",
    "            return\n",
    "        elif (source == self.from_rawBMPs):\n",
    "            pass\n",
    "        else:\n",
    "            print(\"Mistake: <source> wrong: source = ....from_webGen or ....from_rawBMPs\")\n",
    "            \n",
    "    def compose_pcGen_setLeaf(self, source, display = False):\n",
    "        self.mkdir_pcGen()\n",
    "        if self.numShots == 0:\n",
    "            print(\"None shots in the folder\")\n",
    "            return\n",
    "        if (source == self.from_webGen):\n",
    "            print((\"Composing Leaf pixel values from webGen\\n\" if display else ''), end = '')\n",
    "            self.setLeaf = np.zeros((self.numShots, 1,280))\n",
    "            for i in range(self.numShots):\n",
    "                tmpPdWeb = pd.read_csv(self.shots[i].CSVfull_dir)\n",
    "                self.setLeaf[i,0,:]  = np.array(pd.read_csv(self.shots[i].CSVfull_dir)['LEAF'])\n",
    "            np.save(os.path.join(self.dir_pcGen, 'setLeaf'), self.setLeaf)\n",
    "            print((\"Saved as pcGen/setLeaf.npy\\n\" if display else ''), end = '')\n",
    "            return\n",
    "        elif (source == self.from_rawBMPs):\n",
    "            pass\n",
    "        else:\n",
    "            print(\"Mistake: <source> wrong: source = ....from_webGen or ....from_rawBMPs\")\n",
    "    \n",
    "    def compose_pcGen_setMask(self, leafRange = [16,255], grayRange = [16,255], display = False):\n",
    "        self.setGray = np.load(os.path.join(self.dir_pcGen, 'setGray.npy'))\n",
    "        self.setLeaf = np.load(os.path.join(self.dir_pcGen, 'setLeaf.npy'))\n",
    "        maskLeaf = np.logical_and(self.setLeaf >= leafRange[0], self.setLeaf <= leafRange[1])\n",
    "        maskGray = np.logical_and(self.setGray >= grayRange[0], self.setGray <= grayRange[1])\n",
    "        self.setMask  = np.logical_and(maskLeaf, maskGray)\n",
    "        \n",
    "        np.save(os.path.join(self.dir_pcGen, 'setMask'), self.setMask)\n",
    "        print((\"Saved as pcGen/setMask.npy\\n\" if display else ''), end = '')\n",
    "#         self.setMask = np.logical_and(np.where())\n",
    "        \n",
    "    def compose_pcGen_setWhite(self, source, BG = 10.5, display = False):\n",
    "        self.mkdir_pcGen()\n",
    "        if self.numShots == 0:\n",
    "            print(\"None shots in the folder\")\n",
    "            return\n",
    "        if (source == self.from_webGen):\n",
    "            print((\"Composing Leaf pixel values from webGen\\n\" if display else ''), end = '')\n",
    "            self.setWhite  = np.zeros((self.numShots,1, 280))\n",
    "            for i in range(self.numShots):\n",
    "                tmpPdWeb = pd.read_csv(self.shots[i].CSVfull_dir)\n",
    "                tmpGray  = np.array(pd.read_csv(self.shots[i].CSVfull_dir)['GRAY'])\n",
    "                self.setWhite[i,0,:] = (tmpGray-BG)/np.array(self.ratio['GRAY/WHITE'])+BG\n",
    "            np.save(os.path.join(self.dir_pcGen, 'setWhite'), self.setWhite)\n",
    "            print((\"Saved as pcGen/setWhite.npy\\n\" if display else ''), end = '')\n",
    "            return\n",
    "        elif (source == self.from_rawBMPs):\n",
    "            pass\n",
    "        else:\n",
    "            print(\"Mistake: <source> wrong: source = ....from_webGen or ....from_rawBMPs\")\n",
    "    \n",
    "        \n",
    "    def calcReflection(self,BG=10.5):\n",
    "        self.setWhite = np.load(os.path.join(self.dir_pcGen, 'setWhite.npy'))\n",
    "        self.setLeaf  = np.load(os.path.join(self.dir_pcGen, 'setLeaf.npy'))\n",
    "        self.setWave  = np.load(os.path.join(self.dir_pcGen, 'setWave.npy'))\n",
    "        if not(self.setWhite.shape == self.setLeaf.shape):\n",
    "            print(\"Err: shape of setWhite and setLeaf are not equal\")\n",
    "            return\n",
    "        self.numSection = self.setLeaf.shape[1]\n",
    "        self.Reflection = []\n",
    "        for i in range(self.numShots):\n",
    "            self.Reflection.append({})\n",
    "        for i in range(self.numShots):\n",
    "            for s in range(self.numSection):\n",
    "                tmpUsablePixelnum = np.sum(sf.setMask[i,s,:])\n",
    "                tmp = np.zeros((tmpUsablePixelnum, 2))\n",
    "#                 for j in range(tmpUsablePixelnum):\n",
    "                tmp[:,0] = self.setWave[i,s,:][self.setMask[i,s,:]]\n",
    "                tmp[:,1] = (self.setLeaf[i,s,:][self.setMask[i,s,:]]-BG)/(self.setWhite[i,s,:][self.setMask[i,s,:]]-BG)\n",
    "                self.Reflection[i]['section{}'.format(s)] = np.copy(tmp)\n",
    "                self.Reflection[i]['section{}_wavelength'.format(s)] = np.copy(tmp[:,0])\n",
    "                self.Reflection[i]['section{}_reflection'.format(s)] = np.copy(tmp[:,1])\n",
    "#                 plt.plot(tmp[:,0], tmp[:,1])\n",
    "#                 plt.show()\n",
    "#         self.Reflection = [[]]*self.numShots\n",
    "#         for i in range(self.numShots):\n",
    "#             tmp = []\n",
    "#             for s in range(self.numSection):\n",
    "#                 tmpUsablePixelnum = np.sum(sf.setMask[i,s,:])\n",
    "#                 tmp.append(self.setWave[i,s,:][self.setMask[i,s,:]])\n",
    "#                 tmp.append((self.setLeaf[i,s,:][self.setMask[i,s,:]]-BG)/(self.setWhite[i,s,:][self.setMask[i,s,:]]-BG) )\n",
    "#             self.Reflection[i]= tmp\n",
    "    \n",
    "        file = open(self.dir_pcGen_ref, 'wb')\n",
    "        pickle.dump(self.Reflection, file)\n",
    "        file.close()                \n",
    "        \n",
    "        \n",
    "    def save(self):\n",
    "        file = open(self.dir_pickle, 'wb')\n",
    "        pickle.dump(self, file)\n",
    "        file.close()                \n",
    "    def load(self, _dir_):\n",
    "        #         print(_dir_)\n",
    "        file = open(self.dir_pickle, 'rb')\n",
    "        tmp = pickle.load(file)\n",
    "        self.__dict__ = tmp.__dict__\n",
    "        #         print(type(tmp.__dict__))\n",
    "        file.close()\n",
    "        print('read from {}'.format(self.dir_pickle))"
   ]
  },
  {
   "cell_type": "code",
   "execution_count": 321,
   "metadata": {},
   "outputs": [
    {
     "name": "stdout",
     "output_type": "stream",
     "text": [
      "origRGB   :unique count: 326\n",
      "json      :unique count: 326\n",
      "CSVfull   :unique count: 326\n",
      "CSVcrop   :unique count: 326\n",
      "CSVspec   :unique count: 326\n",
      "RGBwithPOV:unique count: 326\n",
      "BMPwithPOV:unique count: 326\n",
      "rawBMPs   :unique count: 326\n",
      "============================\n",
      "- incomplete shot: 20191221_111708 has no json\n",
      "==============================================\n",
      "In Given types, 325 unique shots in this Set.\n"
     ]
    }
   ],
   "source": [
    "Types = {\n",
    "    \"origRGB\"   : True,\n",
    "    \"json\"      : True,\n",
    "    \"rawBMPs\"   : True,\n",
    "    \"CSVfull\"   : True,\n",
    "    \"CSVcrop\"   : True,\n",
    "    \"CSVspec\"   : True,\n",
    "    \"RGBwithPOV\": True,\n",
    "    \"BMPwithPOV\": True,\n",
    "}\n",
    "sf = SetFormatter('/home/garid/myGit/spectrumCatcher/spectrumCatcher/tests/dname1221/13h_', Types)\n",
    "sf.read_ids(Types, display=True)"
   ]
  },
  {
   "cell_type": "code",
   "execution_count": 322,
   "metadata": {},
   "outputs": [],
   "source": [
    "# sf.cleanFiles()"
   ]
  },
  {
   "cell_type": "code",
   "execution_count": 323,
   "metadata": {},
   "outputs": [
    {
     "name": "stdout",
     "output_type": "stream",
     "text": [
      "Composing wavelengths from webGen\n",
      "Saved as pcGen/setWave.npy\n",
      "Composing Gray pixel values from webGen\n",
      "Saved as pcGen/setGray.npy\n",
      "Composing Leaf pixel values from webGen\n",
      "Saved as pcGen/setLeaf.npy\n",
      "Composing Leaf pixel values from webGen\n",
      "Saved as pcGen/setWhite.npy\n",
      "Saved as pcGen/setMask.npy\n"
     ]
    }
   ],
   "source": [
    "sf.compose_pcGen_setWave(sf.from_webGen, True)\n",
    "sf.compose_pcGen_setGray(sf.from_webGen, True)\n",
    "sf.compose_pcGen_setLeaf(sf.from_webGen, True)\n",
    "sf.compose_pcGen_setWhite(sf.from_webGen, BG=10.5,display=True)\n",
    "sf.compose_pcGen_setMask(display = True)"
   ]
  },
  {
   "cell_type": "code",
   "execution_count": 324,
   "metadata": {},
   "outputs": [
    {
     "data": {
      "text/html": [
       "<div>\n",
       "<style scoped>\n",
       "    .dataframe tbody tr th:only-of-type {\n",
       "        vertical-align: middle;\n",
       "    }\n",
       "\n",
       "    .dataframe tbody tr th {\n",
       "        vertical-align: top;\n",
       "    }\n",
       "\n",
       "    .dataframe thead th {\n",
       "        text-align: right;\n",
       "    }\n",
       "</style>\n",
       "<table border=\"1\" class=\"dataframe\">\n",
       "  <thead>\n",
       "    <tr style=\"text-align: right;\">\n",
       "      <th></th>\n",
       "      <th>Unnamed: 0</th>\n",
       "      <th>PIXEL</th>\n",
       "      <th>WAVELENGTH</th>\n",
       "      <th>GRAY/WHITE</th>\n",
       "    </tr>\n",
       "  </thead>\n",
       "  <tbody>\n",
       "    <tr>\n",
       "      <th>0</th>\n",
       "      <td>0</td>\n",
       "      <td>92</td>\n",
       "      <td>442.6</td>\n",
       "      <td>0.5002</td>\n",
       "    </tr>\n",
       "    <tr>\n",
       "      <th>1</th>\n",
       "      <td>1</td>\n",
       "      <td>93</td>\n",
       "      <td>444.8</td>\n",
       "      <td>0.4979</td>\n",
       "    </tr>\n",
       "    <tr>\n",
       "      <th>2</th>\n",
       "      <td>2</td>\n",
       "      <td>94</td>\n",
       "      <td>447.0</td>\n",
       "      <td>0.4958</td>\n",
       "    </tr>\n",
       "    <tr>\n",
       "      <th>3</th>\n",
       "      <td>3</td>\n",
       "      <td>95</td>\n",
       "      <td>449.2</td>\n",
       "      <td>0.4941</td>\n",
       "    </tr>\n",
       "    <tr>\n",
       "      <th>4</th>\n",
       "      <td>4</td>\n",
       "      <td>96</td>\n",
       "      <td>451.4</td>\n",
       "      <td>0.4927</td>\n",
       "    </tr>\n",
       "    <tr>\n",
       "      <th>...</th>\n",
       "      <td>...</td>\n",
       "      <td>...</td>\n",
       "      <td>...</td>\n",
       "      <td>...</td>\n",
       "    </tr>\n",
       "    <tr>\n",
       "      <th>275</th>\n",
       "      <td>275</td>\n",
       "      <td>367</td>\n",
       "      <td>1047.6</td>\n",
       "      <td>0.9287</td>\n",
       "    </tr>\n",
       "    <tr>\n",
       "      <th>276</th>\n",
       "      <td>276</td>\n",
       "      <td>368</td>\n",
       "      <td>1049.8</td>\n",
       "      <td>0.9287</td>\n",
       "    </tr>\n",
       "    <tr>\n",
       "      <th>277</th>\n",
       "      <td>277</td>\n",
       "      <td>369</td>\n",
       "      <td>1052.0</td>\n",
       "      <td>0.9287</td>\n",
       "    </tr>\n",
       "    <tr>\n",
       "      <th>278</th>\n",
       "      <td>278</td>\n",
       "      <td>370</td>\n",
       "      <td>1054.2</td>\n",
       "      <td>0.9287</td>\n",
       "    </tr>\n",
       "    <tr>\n",
       "      <th>279</th>\n",
       "      <td>279</td>\n",
       "      <td>371</td>\n",
       "      <td>1056.4</td>\n",
       "      <td>0.9287</td>\n",
       "    </tr>\n",
       "  </tbody>\n",
       "</table>\n",
       "<p>280 rows × 4 columns</p>\n",
       "</div>"
      ],
      "text/plain": [
       "     Unnamed: 0  PIXEL  WAVELENGTH  GRAY/WHITE\n",
       "0             0     92       442.6      0.5002\n",
       "1             1     93       444.8      0.4979\n",
       "2             2     94       447.0      0.4958\n",
       "3             3     95       449.2      0.4941\n",
       "4             4     96       451.4      0.4927\n",
       "..          ...    ...         ...         ...\n",
       "275         275    367      1047.6      0.9287\n",
       "276         276    368      1049.8      0.9287\n",
       "277         277    369      1052.0      0.9287\n",
       "278         278    370      1054.2      0.9287\n",
       "279         279    371      1056.4      0.9287\n",
       "\n",
       "[280 rows x 4 columns]"
      ]
     },
     "execution_count": 324,
     "metadata": {},
     "output_type": "execute_result"
    }
   ],
   "source": [
    "sf.ratio"
   ]
  },
  {
   "cell_type": "code",
   "execution_count": 325,
   "metadata": {
    "scrolled": true
   },
   "outputs": [],
   "source": [
    "sf.calcReflection()"
   ]
  },
  {
   "cell_type": "code",
   "execution_count": 326,
   "metadata": {},
   "outputs": [
    {
     "data": {
      "text/plain": [
       "array([-0.00022285, -0.00037644, -0.0003144 , -0.00122121, -0.00169106,\n",
       "       -0.00225268, -0.00223218, -0.00174841, -0.00184722, -0.00208711,\n",
       "       -0.00218135, -0.00229299, -0.00260837, -0.00278627, -0.00313114,\n",
       "       -0.00283719, -0.00210801, -0.00248673, -0.00267328, -0.00267266,\n",
       "       -0.0033131 , -0.00312205, -0.00357274, -0.00368769, -0.0043111 ,\n",
       "       -0.00539363, -0.00667846, -0.00723104, -0.00862798, -0.00989181,\n",
       "       -0.01099075, -0.01303379, -0.01465229, -0.01598439, -0.01788156,\n",
       "       -0.01886088, -0.02038421, -0.02107957, -0.02217338, -0.02218336,\n",
       "       -0.02279784, -0.02266146, -0.023052  , -0.02327579, -0.02289367,\n",
       "       -0.02255447, -0.02245515, -0.02192602, -0.02137557, -0.02110501,\n",
       "       -0.01990388, -0.01911358, -0.01750906, -0.01700403, -0.01499679,\n",
       "       -0.01432999, -0.01348488, -0.01193657, -0.01061934, -0.01032318,\n",
       "       -0.00910802, -0.00794498, -0.00729713, -0.00539244, -0.00514939,\n",
       "       -0.00493696, -0.00460634, -0.0042677 , -0.00483978, -0.00445007,\n",
       "       -0.00354457, -0.00279982, -0.00164945, -0.00124764,  0.00014263,\n",
       "        0.00097931,  0.00170965,  0.00199063,  0.0031698 ,  0.0035448 ,\n",
       "        0.0047696 ,  0.00480265,  0.00484281,  0.00458479,  0.00428281,\n",
       "        0.00444895,  0.00565201,  0.00670723,  0.0079578 ,  0.00793969,\n",
       "        0.00891581,  0.00896458,  0.00874061,  0.00976157,  0.00949372,\n",
       "        0.00999747,  0.01011451,  0.00996013,  0.01064424,  0.0100686 ,\n",
       "        0.01042797,  0.01056927,  0.00995696,  0.01089986,  0.01098214,\n",
       "        0.0111381 ,  0.01134695,  0.01176686,  0.0114204 ,  0.0108409 ,\n",
       "        0.00879588,  0.00577085,  0.00357015, -0.00057469, -0.00304086,\n",
       "       -0.00638593, -0.00934207, -0.01221315, -0.01517639, -0.01784954,\n",
       "       -0.01669714, -0.01818756, -0.02383934, -0.02808706, -0.0325634 ,\n",
       "       -0.03718031, -0.04222464, -0.04664149, -0.05299774, -0.05395442,\n",
       "       -0.05729976, -0.06136806, -0.06255466, -0.06547448, -0.06610649,\n",
       "       -0.06957439, -0.07047722, -0.07188384, -0.07569355, -0.07719353,\n",
       "       -0.07014454, -0.06471236, -0.06585432, -0.07121079, -0.07564042,\n",
       "       -0.07771593, -0.07769542, -0.07852693, -0.07933266, -0.07932361,\n",
       "       -0.07962384, -0.08099842, -0.08140904, -0.07845333, -0.08188076,\n",
       "       -0.08118202, -0.08076374, -0.08016446, -0.08350244, -0.08163291,\n",
       "       -0.0857061 , -0.08518128, -0.0853881 , -0.08345217, -0.0746124 ,\n",
       "       -0.0733398 , -0.0707858 , -0.06787951, -0.0682237 , -0.07422108,\n",
       "       -0.07343787, -0.07722192, -0.07469068, -0.08125952, -0.08417748,\n",
       "       -0.08506129, -0.08529594, -0.09234455, -0.0978782 , -0.09806014,\n",
       "       -0.10160537, -0.10067226, -0.09887112, -0.09511333, -0.09838894,\n",
       "       -0.10028396, -0.10334478, -0.10681764, -0.10510201, -0.10610469,\n",
       "       -0.10770995, -0.10708259, -0.10245644, -0.10142739, -0.10377651,\n",
       "       -0.11131365, -0.10829537, -0.10781783, -0.11203608, -0.12529207,\n",
       "       -0.1237021 , -0.12701347, -0.11650836, -0.09300446, -0.09123481,\n",
       "       -0.10305149, -0.10631701, -0.10991525, -0.10327552, -0.10160066,\n",
       "       -0.09236969, -0.08538956, -0.0980069 , -0.10022661, -0.07989506,\n",
       "       -0.05339335,  0.03239852, -0.00192831,  0.        ,  0.        ,\n",
       "        0.        ,  0.        ,  0.        , -0.00192977,  0.        ,\n",
       "        0.00241221,  0.        ,  0.        ,  0.        ,  0.        ,\n",
       "        0.        ,  0.        ,  0.        ,  0.00974928,  0.02950018,\n",
       "        0.00893659,  0.0326572 ,  0.01122542,  0.01599656,  0.03740071,\n",
       "        0.00776305,  0.02642174,  0.01110289, -0.00511382, -0.01057747,\n",
       "       -0.00338154,  0.00410878,  0.00737401,  0.00390075, -0.0134087 ,\n",
       "        0.00475033, -0.00868245,  0.0122132 ,  0.0077573 , -0.00604649,\n",
       "       -0.00317763,  0.00492942,  0.        ,  0.        ,  0.        ,\n",
       "        0.00241221,  0.        , -0.00325369,  0.        ,  0.00448727,\n",
       "        0.        ,  0.        ,  0.        ,  0.        ,  0.        ,\n",
       "        0.00336486,  0.        ,  0.        ,  0.        ,  0.        ,\n",
       "        0.        ,  0.        ,  0.        , -0.00144732,  0.00385953])"
      ]
     },
     "execution_count": 326,
     "metadata": {},
     "output_type": "execute_result"
    }
   ],
   "source": [
    "sf.Reflection[32][\"section0_reflection\"] - sf.Reflection[21][\"section0_reflection\"]"
   ]
  },
  {
   "cell_type": "code",
   "execution_count": 327,
   "metadata": {},
   "outputs": [
    {
     "data": {
      "text/plain": [
       "['/home/garid/myGit/spectrumCatcher/spectrumCatcher/tests/dname1221/13h_/rawBMPs/20191221_111710_9.bmp',\n",
       " '/home/garid/myGit/spectrumCatcher/spectrumCatcher/tests/dname1221/13h_/rawBMPs/20191221_111710_6.bmp',\n",
       " '/home/garid/myGit/spectrumCatcher/spectrumCatcher/tests/dname1221/13h_/rawBMPs/20191221_111710_2.bmp',\n",
       " '/home/garid/myGit/spectrumCatcher/spectrumCatcher/tests/dname1221/13h_/rawBMPs/20191221_111710_8.bmp',\n",
       " '/home/garid/myGit/spectrumCatcher/spectrumCatcher/tests/dname1221/13h_/rawBMPs/20191221_111710_0.bmp',\n",
       " '/home/garid/myGit/spectrumCatcher/spectrumCatcher/tests/dname1221/13h_/rawBMPs/20191221_111710_7.bmp',\n",
       " '/home/garid/myGit/spectrumCatcher/spectrumCatcher/tests/dname1221/13h_/rawBMPs/20191221_111710_14.bmp',\n",
       " '/home/garid/myGit/spectrumCatcher/spectrumCatcher/tests/dname1221/13h_/rawBMPs/20191221_111710_1.bmp',\n",
       " '/home/garid/myGit/spectrumCatcher/spectrumCatcher/tests/dname1221/13h_/rawBMPs/20191221_111710_4.bmp',\n",
       " '/home/garid/myGit/spectrumCatcher/spectrumCatcher/tests/dname1221/13h_/rawBMPs/20191221_111710_11.bmp',\n",
       " '/home/garid/myGit/spectrumCatcher/spectrumCatcher/tests/dname1221/13h_/rawBMPs/20191221_111710_3.bmp',\n",
       " '/home/garid/myGit/spectrumCatcher/spectrumCatcher/tests/dname1221/13h_/rawBMPs/20191221_111710_12.bmp',\n",
       " '/home/garid/myGit/spectrumCatcher/spectrumCatcher/tests/dname1221/13h_/rawBMPs/20191221_111710_13.bmp']"
      ]
     },
     "execution_count": 327,
     "metadata": {},
     "output_type": "execute_result"
    }
   ],
   "source": [
    "sf.shots[2].rawBMPs_dirs"
   ]
  },
  {
   "cell_type": "code",
   "execution_count": 330,
   "metadata": {
    "scrolled": true
   },
   "outputs": [
    {
     "name": "stdout",
     "output_type": "stream",
     "text": [
      "True\n",
      "True\n",
      "True\n",
      "True\n",
      "True\n",
      "True\n",
      "True\n",
      "True\n",
      "True\n",
      "True\n",
      "True\n",
      "True\n",
      "True\n"
     ]
    }
   ],
   "source": [
    "for i in sf.shots[2].rawBMPs_dirs:\n",
    "    print(os.path.isfile(i))"
   ]
  },
  {
   "cell_type": "code",
   "execution_count": 143,
   "metadata": {
    "scrolled": true
   },
   "outputs": [
    {
     "data": {
      "text/plain": [
       "array([-3.12193207e+02, -3.12163222e+02, -3.13526764e+02, -3.19340220e+02,\n",
       "       -3.21821346e+02, -3.24402453e+02, -3.23336739e+02, -3.18390990e+02,\n",
       "       -3.15195373e+02, -3.16101295e+02, -3.18483642e+02, -3.21700258e+02,\n",
       "       -3.23454426e+02, -3.24288014e+02, -3.24102824e+02, -3.18351004e+02,\n",
       "       -3.07430767e+02, -3.06676260e+02, -3.11623266e+02, -3.11731441e+02,\n",
       "       -3.13098541e+02, -3.10848042e+02, -3.06393378e+02, -3.03331398e+02,\n",
       "       -3.01895074e+02, -3.02115347e+02, -3.02969716e+02, -3.02721678e+02,\n",
       "       -2.98376591e+02, -2.92841782e+02, -2.83531104e+02, -2.81451123e+02,\n",
       "       -2.84509811e+02, -2.86359558e+02, -2.85578527e+02, -2.86011649e+02,\n",
       "       -2.89465386e+02, -2.90558014e+02, -2.89684000e+02, -2.89155656e+02,\n",
       "       -2.84376566e+02, -2.82157192e+02, -2.80820612e+02, -2.80680891e+02,\n",
       "       -2.81738956e+02, -2.82203502e+02, -2.82251075e+02, -2.83298236e+02,\n",
       "       -2.81526954e+02, -2.81620594e+02, -2.85009068e+02, -2.84851033e+02,\n",
       "       -2.84249990e+02, -2.80733117e+02, -2.78904486e+02, -2.79957060e+02,\n",
       "       -2.77584381e+02, -2.76009362e+02, -2.77022621e+02, -2.77271740e+02,\n",
       "       -2.72153330e+02, -2.61289867e+02, -2.44969213e+02, -2.36869612e+02,\n",
       "       -2.38617037e+02, -2.43894044e+02, -2.49680912e+02, -2.59057037e+02,\n",
       "       -2.65868178e+02, -2.69762614e+02, -2.70416075e+02, -2.67575567e+02,\n",
       "       -2.64873772e+02, -2.60348318e+02, -2.57533219e+02, -2.55804562e+02,\n",
       "       -2.54907818e+02, -2.51855400e+02, -2.47562848e+02, -2.43659045e+02,\n",
       "       -2.39542610e+02, -2.40375400e+02, -2.43849647e+02, -2.47105663e+02,\n",
       "       -2.49241409e+02, -2.49523164e+02, -2.47493175e+02, -2.42304069e+02,\n",
       "       -2.33237468e+02, -2.25909298e+02, -2.23762956e+02, -2.23211340e+02,\n",
       "       -2.19084158e+02, -2.20815589e+02, -2.29126935e+02, -2.34861736e+02,\n",
       "       -2.38541319e+02, -2.39381303e+02, -2.39737526e+02, -2.40754819e+02,\n",
       "       -2.38957662e+02, -2.40614683e+02, -2.39710129e+02, -2.36050326e+02,\n",
       "       -2.29201173e+02, -2.17883552e+02, -1.99968601e+02, -1.85784501e+02,\n",
       "       -1.81584354e+02, -1.75120912e+02, -1.72279570e+02, -1.70458633e+02,\n",
       "       -1.64905129e+02, -1.60228658e+02, -1.58742004e+02, -1.56618519e+02,\n",
       "       -1.52854353e+02, -1.45221216e+02, -1.32661640e+02, -1.09658431e+02,\n",
       "       -8.49692124e+01, -7.31747284e+01, -6.99623701e+01, -6.46636727e+01,\n",
       "       -6.07594029e+01, -5.99041734e+01, -6.48972975e+01, -7.18094131e+01,\n",
       "       -7.59210387e+01, -7.90013548e+01, -8.23017498e+01, -8.50074144e+01,\n",
       "       -8.60896699e+01, -8.40206494e+01, -8.15418546e+01, -7.65518465e+01,\n",
       "       -7.13492651e+01, -6.28479451e+01, -4.79198905e+01, -2.90838794e+01,\n",
       "       -2.19924073e+01, -2.93998175e+01, -4.04586132e+01, -4.76221201e+01,\n",
       "       -5.02116206e+01, -4.98143015e+01, -4.89227110e+01, -4.70789084e+01,\n",
       "       -4.55554161e+01, -4.26640495e+01, -3.96906953e+01, -3.51500406e+01,\n",
       "       -3.08067550e+01, -2.87407092e+01, -2.70606867e+01, -2.53105082e+01,\n",
       "       -2.22755871e+01, -2.04657688e+01, -1.79393336e+01, -1.77875227e+01,\n",
       "       -1.60231276e+01, -1.32992467e+01, -9.43114547e+00, -5.46135463e+00,\n",
       "       -3.66674805e+00, -5.41356365e+00, -6.97076365e+00, -6.94346192e+00,\n",
       "       -7.57697659e+00, -8.10190607e+00, -7.64027798e+00, -7.87705471e+00,\n",
       "       -8.90019370e+00, -1.00540005e+01, -1.03640767e+01, -1.04484031e+01,\n",
       "       -1.05862045e+01, -1.07832628e+01, -1.01696849e+01, -9.81650720e+00,\n",
       "       -8.85920923e+00, -8.84073395e+00, -8.97190246e+00, -9.84550348e+00,\n",
       "       -1.00841440e+01, -9.67010584e+00, -9.52748371e+00, -9.59228514e+00,\n",
       "       -9.83666812e+00, -1.02012137e+01, -1.00507336e+01, -9.83250791e+00,\n",
       "       -8.96452632e+00, -8.48278092e+00, -7.86620558e+00, -7.79225069e+00,\n",
       "       -7.21869848e+00, -6.35423989e+00, -5.16602803e+00, -3.29396513e+00,\n",
       "       -1.21817880e+00, -6.23989125e-01, -3.06947069e-01, -9.54942586e-01,\n",
       "       -1.43128253e+00, -1.06937084e+00, -4.25608431e-01, -6.40413007e-01,\n",
       "       -8.46738979e-01, -7.36845456e-01, -1.07311770e+00, -1.52262297e+00,\n",
       "       -1.71812871e+00, -1.25127561e+00, -7.77653388e-01,  5.78671512e-02,\n",
       "        1.52210573e-02, -4.12438424e-01, -4.26085551e-01, -4.24808790e-01,\n",
       "       -4.24170616e-01, -4.22894680e-01, -4.22256918e-01, -3.53685490e-01,\n",
       "       -4.22256918e-01, -4.19399775e-01, -4.22256918e-01, -4.22256918e-01,\n",
       "       -4.22256918e-01, -4.22256918e-01, -4.19399775e-01, -4.22256918e-01,\n",
       "       -4.19399775e-01, -4.53899306e-01, -6.90465730e-01, -7.68107493e-01,\n",
       "       -3.02969640e-01, -6.03753634e-01, -5.56931502e-01, -5.51716121e-01,\n",
       "       -8.49960570e-01, -1.35141852e+00, -1.31770298e+00, -1.41027191e+00,\n",
       "       -1.58448635e+00, -1.58266578e+00, -1.35602496e+00, -1.33642009e+00,\n",
       "       -8.54819589e-01, -9.08891487e-01, -9.01356633e-01, -5.55253478e-01,\n",
       "       -5.31683613e-01, -4.41077799e-01, -3.61077799e-01, -6.06040600e-01,\n",
       "       -4.62542007e-01, -4.22256918e-01, -4.22256918e-01, -4.19399775e-01,\n",
       "       -3.65114061e-01, -4.19399775e-01, -5.37112810e-01, -4.22256918e-01,\n",
       "       -3.92363827e-01, -4.22256918e-01, -4.22256918e-01, -4.22256918e-01,\n",
       "       -4.22256918e-01, -4.22256918e-01, -4.22256918e-01, -4.22256918e-01,\n",
       "       -4.22256918e-01, -4.22256918e-01, -4.22256918e-01, -4.22256918e-01,\n",
       "       -4.22256918e-01, -4.22256918e-01, -4.02256918e-01, -3.59399775e-01])"
      ]
     },
     "execution_count": 143,
     "metadata": {},
     "output_type": "execute_result"
    }
   ],
   "source": [
    "i = 3\n",
    "s = 0\n",
    "BG = 10.5\n",
    "(sf.setLeaf[i,s,:][sf.setMask[i,s,:]]-BG)/(sf.setWhite[i,s,:][sf.setMask[i,s,:]]-BG)\n",
    "sf.setLeaf[i,s,:] - sf.setWhite[i,s,:]"
   ]
  },
  {
   "cell_type": "code",
   "execution_count": 39,
   "metadata": {},
   "outputs": [
    {
     "data": {
      "text/plain": [
       "(91000,)"
      ]
     },
     "execution_count": 39,
     "metadata": {},
     "output_type": "execute_result"
    }
   ],
   "source": [
    "sf.setWhite[sf.setMask]"
   ]
  },
  {
   "cell_type": "code",
   "execution_count": 54,
   "metadata": {},
   "outputs": [
    {
     "name": "stdout",
     "output_type": "stream",
     "text": [
      "read from /home/garid/myGithub/spectrumCatcher/spectrumCatcher/tests/dname1221/13h_/pcGen/dir_pickle.gry\n"
     ]
    }
   ],
   "source": [
    "s = SetFormatter('/home/garid/myGithub/spectrumCatcher/spectrumCatcher/tests/dname1221/13h_', from_gry = True)\n"
   ]
  },
  {
   "cell_type": "code",
   "execution_count": 51,
   "metadata": {
    "collapsed": true
   },
   "outputs": [
    {
     "data": {
      "text/plain": [
       "dict_keys(['dir', 'dir_pcGen', 'dir_pickle', 'Types', 'usingTypes', 'allFnames', 'usingUniqueID_inSeperateBuckets', 'numShots', 'shots', 'ratio', 'from_webGen', 'from_rawBMPs', 'usingUniqueIDs', 'setWave', 'setGray', 'setLeaf', 'setWhite', 'setMask'])"
      ]
     },
     "execution_count": 51,
     "metadata": {},
     "output_type": "execute_result"
    }
   ],
   "source": [
    "s.__dict__.keys()\n"
   ]
  },
  {
   "cell_type": "code",
   "execution_count": 52,
   "metadata": {
    "collapsed": true
   },
   "outputs": [
    {
     "data": {
      "text/plain": [
       "array([[[ 89.2285086 ,  90.18132825,  91.02978351, ...,  16.42225692,\n",
       "          16.42225692,  16.42225692]],\n",
       "\n",
       "       [[ 86.56290817,  88.44068421,  88.82459325, ...,  16.42225692,\n",
       "          16.42225692,  16.42225692]],\n",
       "\n",
       "       [[341.20771691, 341.36965254, 342.85175474, ...,  16.42225692,\n",
       "          16.42225692,  16.42225692]],\n",
       "\n",
       "       ...,\n",
       "\n",
       "       [[387.53585233, 389.43820714, 390.65328762, ...,  16.42225692,\n",
       "          16.42225692,  16.42225692]],\n",
       "\n",
       "       [[355.62861522, 357.57103167, 358.28808659, ...,  16.42225692,\n",
       "          16.42225692,  16.42225692]],\n",
       "\n",
       "       [[390.60129282, 392.98644306, 394.01485814, ...,  16.42225692,\n",
       "          16.42225692,  16.42225692]]])"
      ]
     },
     "execution_count": 52,
     "metadata": {},
     "output_type": "execute_result"
    }
   ],
   "source": [
    "s.setWhite"
   ]
  },
  {
   "cell_type": "code",
   "execution_count": 27,
   "metadata": {},
   "outputs": [],
   "source": [
    "a = [{}] *4"
   ]
  },
  {
   "cell_type": "code",
   "execution_count": 29,
   "metadata": {},
   "outputs": [],
   "source": [
    "a[0]['asf'] = 2"
   ]
  },
  {
   "cell_type": "code",
   "execution_count": 30,
   "metadata": {},
   "outputs": [
    {
     "data": {
      "text/plain": [
       "[{'asf': 2}, {'asf': 2}, {'asf': 2}, {'asf': 2}]"
      ]
     },
     "execution_count": 30,
     "metadata": {},
     "output_type": "execute_result"
    }
   ],
   "source": [
    "a"
   ]
  },
  {
   "cell_type": "code",
   "execution_count": 278,
   "metadata": {},
   "outputs": [],
   "source": [
    "s = [{}] * 10"
   ]
  },
  {
   "cell_type": "code",
   "execution_count": 280,
   "metadata": {},
   "outputs": [],
   "source": [
    "s[1]['ds'] = 32"
   ]
  },
  {
   "cell_type": "code",
   "execution_count": 281,
   "metadata": {},
   "outputs": [
    {
     "data": {
      "text/plain": [
       "[{'ds': 32},\n",
       " {'ds': 32},\n",
       " {'ds': 32},\n",
       " {'ds': 32},\n",
       " {'ds': 32},\n",
       " {'ds': 32},\n",
       " {'ds': 32},\n",
       " {'ds': 32},\n",
       " {'ds': 32},\n",
       " {'ds': 32}]"
      ]
     },
     "execution_count": 281,
     "metadata": {},
     "output_type": "execute_result"
    }
   ],
   "source": [
    "s"
   ]
  },
  {
   "cell_type": "code",
   "execution_count": 305,
   "metadata": {},
   "outputs": [
    {
     "ename": "NameError",
     "evalue": "name 'tmpid' is not defined",
     "output_type": "error",
     "traceback": [
      "\u001b[0;31m---------------------------------------------------------------------------\u001b[0m",
      "\u001b[0;31mNameError\u001b[0m                                 Traceback (most recent call last)",
      "\u001b[0;32m<ipython-input-305-3f7dd0afdd97>\u001b[0m in \u001b[0;36m<module>\u001b[0;34m\u001b[0m\n\u001b[0;32m----> 1\u001b[0;31m \u001b[0mtmp_dirrawBMPs\u001b[0m \u001b[0;34m=\u001b[0m \u001b[0;34m[\u001b[0m\u001b[0;34m(\u001b[0m\u001b[0mos\u001b[0m\u001b[0;34m.\u001b[0m\u001b[0mpath\u001b[0m\u001b[0;34m.\u001b[0m\u001b[0mjoin\u001b[0m\u001b[0;34m(\u001b[0m\u001b[0msf\u001b[0m\u001b[0;34m.\u001b[0m\u001b[0mdir\u001b[0m\u001b[0;34m,\u001b[0m\u001b[0;34m'rawBMPs'\u001b[0m\u001b[0;34m,\u001b[0m \u001b[0mfnamebmps\u001b[0m\u001b[0;34m)\u001b[0m\u001b[0;34m)\u001b[0m \u001b[0;32mfor\u001b[0m \u001b[0mfnamebmps\u001b[0m \u001b[0;32min\u001b[0m \u001b[0mos\u001b[0m\u001b[0;34m.\u001b[0m\u001b[0mlistdir\u001b[0m\u001b[0;34m(\u001b[0m\u001b[0mos\u001b[0m\u001b[0;34m.\u001b[0m\u001b[0mpath\u001b[0m\u001b[0;34m.\u001b[0m\u001b[0mjoin\u001b[0m\u001b[0;34m(\u001b[0m\u001b[0msf\u001b[0m\u001b[0;34m.\u001b[0m\u001b[0mdir\u001b[0m\u001b[0;34m,\u001b[0m\u001b[0;34m'rawBMPs'\u001b[0m\u001b[0;34m)\u001b[0m\u001b[0;34m)\u001b[0m \u001b[0;32mif\u001b[0m \u001b[0mtmpid\u001b[0m \u001b[0;32min\u001b[0m \u001b[0mfnamebmps\u001b[0m\u001b[0;34m]\u001b[0m\u001b[0;34m\u001b[0m\u001b[0;34m\u001b[0m\u001b[0m\n\u001b[0m",
      "\u001b[0;32m<ipython-input-305-3f7dd0afdd97>\u001b[0m in \u001b[0;36m<listcomp>\u001b[0;34m(.0)\u001b[0m\n\u001b[0;32m----> 1\u001b[0;31m \u001b[0mtmp_dirrawBMPs\u001b[0m \u001b[0;34m=\u001b[0m \u001b[0;34m[\u001b[0m\u001b[0;34m(\u001b[0m\u001b[0mos\u001b[0m\u001b[0;34m.\u001b[0m\u001b[0mpath\u001b[0m\u001b[0;34m.\u001b[0m\u001b[0mjoin\u001b[0m\u001b[0;34m(\u001b[0m\u001b[0msf\u001b[0m\u001b[0;34m.\u001b[0m\u001b[0mdir\u001b[0m\u001b[0;34m,\u001b[0m\u001b[0;34m'rawBMPs'\u001b[0m\u001b[0;34m,\u001b[0m \u001b[0mfnamebmps\u001b[0m\u001b[0;34m)\u001b[0m\u001b[0;34m)\u001b[0m \u001b[0;32mfor\u001b[0m \u001b[0mfnamebmps\u001b[0m \u001b[0;32min\u001b[0m \u001b[0mos\u001b[0m\u001b[0;34m.\u001b[0m\u001b[0mlistdir\u001b[0m\u001b[0;34m(\u001b[0m\u001b[0mos\u001b[0m\u001b[0;34m.\u001b[0m\u001b[0mpath\u001b[0m\u001b[0;34m.\u001b[0m\u001b[0mjoin\u001b[0m\u001b[0;34m(\u001b[0m\u001b[0msf\u001b[0m\u001b[0;34m.\u001b[0m\u001b[0mdir\u001b[0m\u001b[0;34m,\u001b[0m\u001b[0;34m'rawBMPs'\u001b[0m\u001b[0;34m)\u001b[0m\u001b[0;34m)\u001b[0m \u001b[0;32mif\u001b[0m \u001b[0mtmpid\u001b[0m \u001b[0;32min\u001b[0m \u001b[0mfnamebmps\u001b[0m\u001b[0;34m]\u001b[0m\u001b[0;34m\u001b[0m\u001b[0;34m\u001b[0m\u001b[0m\n\u001b[0m",
      "\u001b[0;31mNameError\u001b[0m: name 'tmpid' is not defined"
     ]
    }
   ],
   "source": [
    "tmp_dirrawBMPs = [(os.path.join(sf.dir,'rawBMPs', fnamebmps)) for fnamebmps in os.listdir(os.path.join(sf.dir,'rawBMPs')) if tmpid in fnamebmps] \n"
   ]
  },
  {
   "cell_type": "code",
   "execution_count": 318,
   "metadata": {},
   "outputs": [
    {
     "data": {
      "text/plain": [
       "0"
      ]
     },
     "execution_count": 318,
     "metadata": {},
     "output_type": "execute_result"
    }
   ],
   "source": [
    "len(None) if None else 0"
   ]
  },
  {
   "cell_type": "code",
   "execution_count": null,
   "metadata": {},
   "outputs": [],
   "source": []
  }
 ],
 "metadata": {
  "kernelspec": {
   "display_name": "Python 3",
   "language": "python",
   "name": "python3"
  },
  "language_info": {
   "codemirror_mode": {
    "name": "ipython",
    "version": 3
   },
   "file_extension": ".py",
   "mimetype": "text/x-python",
   "name": "python",
   "nbconvert_exporter": "python",
   "pygments_lexer": "ipython3",
   "version": "3.8.5"
  }
 },
 "nbformat": 4,
 "nbformat_minor": 4
}
