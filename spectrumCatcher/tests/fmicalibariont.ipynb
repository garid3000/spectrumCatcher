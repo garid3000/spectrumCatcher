{
 "cells": [
  {
   "cell_type": "code",
   "execution_count": null,
   "metadata": {},
   "outputs": [],
   "source": [
    "# %run setFormatter.ipynb\n",
    "%run 'updated Downloading.ipynb'"
   ]
  },
  {
   "cell_type": "code",
   "execution_count": null,
   "metadata": {},
   "outputs": [],
   "source": [
    "from IPython.display import HTML\n",
    "HTML('''\n",
    " \n",
    "    code_show=true;\n",
    "    function code_toggle_and_hide_move_buttons() {\n",
    "        if (code_show){\n",
    "            $('div.input').slice(0,4).hide();\n",
    "            $('#move_up_down').hide()\n",
    "        }\n",
    "        else {\n",
    "            $('div.input').slice(0,4).show();\n",
    "            $('#move_up_down').show()\n",
    "        }\n",
    "        code_show = !code_show\n",
    "    }\n",
    "    $(document).ready(code_toggle_and_hide_move_buttons);\n",
    " \n",
    " \n",
    "     \n",
    " \n",
    "''')\n"
   ]
  },
  {
   "cell_type": "code",
   "execution_count": null,
   "metadata": {},
   "outputs": [],
   "source": [
    "d = Downloader(\"mkuriki\", \"mkuriki\", \"2021-01-09\", \"fmiCal\")\n",
    "Types = {\n",
    "    \"origRGB\"  : True,\n",
    "    \"json\"     : True,\n",
    "    \"rawBMPs\"  : True,\n",
    "    \"CSVfull\"  : True,\n",
    "    \"CSVcrop\"  : True,\n",
    "    \"CSVspec\"  : True,\n",
    "    \"RGBwithPOV\": True,\n",
    "    \"BMPwithPOV\": True,\n",
    "}\n",
    "d.setWhichFiles(Types)\n",
    "d.processHTML()\n",
    "d.download_set()"
   ]
  },
  {
   "cell_type": "code",
   "execution_count": null,
   "metadata": {},
   "outputs": [],
   "source": []
  }
 ],
 "metadata": {
  "kernelspec": {
   "display_name": "Python 3",
   "language": "python",
   "name": "python3"
  },
  "language_info": {
   "codemirror_mode": {
    "name": "ipython",
    "version": 3
   },
   "file_extension": ".py",
   "mimetype": "text/x-python",
   "name": "python",
   "nbconvert_exporter": "python",
   "pygments_lexer": "ipython3",
   "version": "3.8.6"
  }
 },
 "nbformat": 4,
 "nbformat_minor": 4
}
