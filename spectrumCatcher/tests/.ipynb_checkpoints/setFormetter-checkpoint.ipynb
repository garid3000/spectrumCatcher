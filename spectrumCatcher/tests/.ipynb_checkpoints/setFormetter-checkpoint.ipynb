{
 "cells": [
  {
   "cell_type": "code",
   "execution_count": 196,
   "metadata": {},
   "outputs": [],
   "source": [
    "import sys\n",
    "import os\n",
    "import json\n",
    "import pickle\n",
    "import shutil\n",
    "import numpy as np\n",
    "import pandas as pd\n",
    "import imageio\n",
    "\n",
    "class SingleShot(object):\n",
    "    \"\"\"docstring for singleShot\"\"\"\n",
    "    def __init__(self, id,\n",
    "                 origRGB_dir, json_dir, rawBMPs_dirs, CSVfull_dir, \n",
    "                 CSVcrop_dir, CSVspec_dir, RGBwithPOV_dir, BMPwithPOV_dir):\n",
    "        self.id       = id\n",
    "        \n",
    "        self.origRGB_dir      = origRGB_dir\n",
    "        self.json_dir         = json_dir\n",
    "        self.rawBMPs_dirs     = rawBMPs_dirs \n",
    "        self.numBMPs          = len(self.rawBMPs_dirs) if self.rawBMPs_dirs else 0\n",
    "        if len(self.rawBMPs_dirs) > 0:\n",
    "            self.rawBMPs_dirs = [\"{}_{}.bmp\".format(os.path.join(os.path.dirname(self.rawBMPs_dirs[0]),self.id),integer) for integer in sorted([int(tmp.split('_')[-1].split('.')[0]) for tmp in self.rawBMPs_dirs])]\n",
    "        self.CSVcrop_dir    = CSVcrop_dir\n",
    "        self.CSVfull_dir    = CSVfull_dir\n",
    "        self.CSVspec_dir    = CSVspec_dir\n",
    "        self.RGBwithPOV_dir = RGBwithPOV_dir\n",
    "        self.BMPwithPOV_dir = BMPwithPOV_dir\n",
    "        \n",
    "        self.jsonDic = None\n",
    "        if self.json_dir != None:\n",
    "            if os.path.isfile(self.json_dir):\n",
    "                file = open(self.json_dir, 'r', encoding = 'utf-8')\n",
    "                self.jsonDic = json.loads(file.read())\n",
    "                file.close()\n",
    "#     def getReflection(self):\n",
    "    def get_spectrum(self, filename, startpixel, endpixel, outputfile = None):\n",
    "        try:\n",
    "            img = imageio.imread(filename)\n",
    "        except:\n",
    "            print(\"error image reading\")\n",
    "\n",
    "        if img.shape == (640, 480, 3):                  #for RGB bmp file (wihth blue/red lines)\n",
    "            tmp = img[startpixel:endpixel, :, 0]        #assuming 3 channels are equal ,(so I'm only using the red channel)\n",
    "        else:\n",
    "            tmp = img[startpixel:endpixel, :]           #for mono bmp file (without blue/red lines)\n",
    "        tmp = np.mean(tmp, 0)\n",
    "\n",
    "        if outputfile != None:\n",
    "            np.savetxt(outputfile, tmp, delimiter=',')\n",
    "            print('saved as \\\"', outputfile, '\\\"')\n",
    "        return tmp\n",
    "\n"
   ]
  },
  {
   "cell_type": "code",
   "execution_count": 188,
   "metadata": {},
   "outputs": [],
   "source": [
    "class SetFormatter():\n",
    "    def __init__(self, directory, typeDictionary = None, from_gry = False):\n",
    "        self.dir = directory\n",
    "        self.dir_pcGen = os.path.join(self.dir, 'pcGen')\n",
    "        self.dir_pickle = os.path.join(self.dir, 'pcGen', 'dir_pickle.gry')\n",
    "        self.dir_pcGen_ref = os.path.join(self.dir, 'pcGen', 'reflection.gry')\n",
    "        if not from_gry:\n",
    "            self.Types = {}          #mostly associated with the downloading types\n",
    "            self.usingTypes = {}     #mostly associated with the types you want to use in your work\n",
    "            self.allFnames = {}\n",
    "            self.setWhichTypes(typeDictionary)\n",
    "            self.checkFiles()\n",
    "            self.usingUniqueID_inSeperateBuckets = []\n",
    "            self.numShots = 0\n",
    "            self.shots = []\n",
    "            self.ratio = pd.read_csv(\"ratio.csv\")\n",
    "\n",
    "            self.from_webGen  = 0\n",
    "            self.from_rawBMPs = 1\n",
    "        else:\n",
    "            self.load(self.dir_pickle)\n",
    "        \n",
    "    def setWhichTypes(self, tmpdict):\n",
    "        self.Types['origRGB']    = tmpdict['origRGB']    if (\"origRGB\"    in tmpdict) else False\n",
    "        self.Types['json']       = tmpdict['json']       if (\"json\"       in tmpdict) else False\n",
    "        self.Types['rawBMPs']    = tmpdict['rawBMPs']    if (\"rawBMPs\"    in tmpdict) else False\n",
    "        self.Types['CSVfull']    = tmpdict['CSVfull']    if (\"CSVfull\"    in tmpdict) else False\n",
    "        self.Types['CSVcrop']    = tmpdict['CSVcrop']    if (\"CSVcrop\"    in tmpdict) else False\n",
    "        self.Types['CSVspec']    = tmpdict['CSVspec']    if (\"CSVspec\"    in tmpdict) else False\n",
    "        self.Types['RGBwithPOV'] = tmpdict['RGBwithPOV'] if (\"RGBwithPOV\" in tmpdict) else False\n",
    "        self.Types['BMPwithPOV'] = tmpdict['BMPwithPOV'] if (\"BMPwithPOV\" in tmpdict) else False\n",
    "        \n",
    "    def dir_origRGB(self, ID):\n",
    "        os.path.join(directory, '{}.jpg'.format(ID))\n",
    "    def dir_json(self, ID):\n",
    "        os.path.join(directory, '{}.json'.format(ID))\n",
    "    def dir_rawBMPs(self, ID, i_th):\n",
    "        os.path.join(directory, 'rawBMPs', '{}_{}.bmp'.format(ID,i_th))\n",
    "    def dir_CSVfull(self, ID):\n",
    "        os.path.join(directory, 'webGen', '{}_full.csv'.format(ID))\n",
    "    def dir_CSVcrop(self, ID):\n",
    "        os.path.join(directory, 'webGen', '{}_crop.csv'.format(ID))\n",
    "    def dir_CSVspec(self, ID):\n",
    "        os.path.join(directory, 'webGen', '{}_spec_NDVI.csv'.format(ID))\n",
    "    def dir_RGBwithPOV(self, ID):\n",
    "        os.path.join(directory, 'webGen', '{}.jpeg'.format(ID))\n",
    "    def dir_BMPwithPOV(self, ID):\n",
    "        os.path.join(directory, 'webGen', '{}.png'.format(ID))\n",
    "    \n",
    "    def checkFiles(self):\n",
    "        self.allFnames['origRGB']    = [s for s in os.listdir(self.dir) if os.path.isfile(os.path.join(self.dir, s)) and '.jpg' in s]\n",
    "        self.allFnames['json']       = [s for s in os.listdir(self.dir) if os.path.isfile(os.path.join(self.dir, s)) and '.json' in s]\n",
    "        self.allFnames['rawBMPs']    = [s for s in os.listdir(os.path.join(self.dir,'rawBMPs')) if os.path.isfile(os.path.join(self.dir,'rawBMPs',s)) and '.bmp'           in s]\n",
    "        self.allFnames['CSVfull']    = [s for s in os.listdir(os.path.join(self.dir, 'webGen')) if os.path.isfile(os.path.join(self.dir, 'webGen',s)) and '_full.csv'      in s]\n",
    "        self.allFnames['CSVcrop']    = [s for s in os.listdir(os.path.join(self.dir, 'webGen')) if os.path.isfile(os.path.join(self.dir, 'webGen',s)) and '_crop.csv'      in s]\n",
    "        self.allFnames['CSVspec']    = [s for s in os.listdir(os.path.join(self.dir, 'webGen')) if os.path.isfile(os.path.join(self.dir, 'webGen',s)) and '_spec_NDVI.csv' in s]\n",
    "        self.allFnames['RGBwithPOV'] = [s for s in os.listdir(os.path.join(self.dir, 'webGen')) if os.path.isfile(os.path.join(self.dir, 'webGen',s)) and '.jpeg'          in s]\n",
    "        self.allFnames['BMPwithPOV'] = [s for s in os.listdir(os.path.join(self.dir, 'webGen')) if os.path.isfile(os.path.join(self.dir, 'webGen',s)) and '.png'           in s]\n",
    "    \n",
    "        self.allFnames['origRGB'].sort()\n",
    "        self.allFnames['json'].sort()\n",
    "        self.allFnames['rawBMPs'].sort()\n",
    "        self.allFnames['CSVfull'].sort()\n",
    "        self.allFnames['CSVcrop'].sort()\n",
    "        self.allFnames['CSVspec'].sort()\n",
    "        self.allFnames['RGBwithPOV'].sort()\n",
    "        self.allFnames['BMPwithPOV'].sort()\n",
    "    def cleanFiles(self):\n",
    "        for s in os.listdir(self.dir):\n",
    "            ss = os.path.join(self.dir, s)\n",
    "\n",
    "            if os.path.isfile(ss):\n",
    "                if not (s in self.allFnames['origRGB'] or \n",
    "                        s in self.allFnames['json']):\n",
    "                    print(\"removed file:\", s)\n",
    "                    os.remove(ss)\n",
    "            if os.path.isdir(ss):\n",
    "                if (not s == \"rawBMPs\") and (not s == \"webGen\"):\n",
    "                    shutil.rmtree(ss)\n",
    "                    print(\"removed directory:\", s)\n",
    "                    \n",
    "        tmpdir = os.path.join(self.dir, 'rawBMPs')\n",
    "        for s in os.listdir(tmpdir):\n",
    "            ss = os.path.join(tmpdir, s)\n",
    "            if os.path.isfile(ss):\n",
    "                if not (s in self.allFnames['rawBMPs']):\n",
    "                    print(\"removed file: rawBMPs/\", s)\n",
    "                    os.remove(ss)                \n",
    "            if os.path.isdir(ss):\n",
    "                shutil.rmtree(ss)\n",
    "                print(\"removed directory: rawBMPs/\", s) \n",
    "        \n",
    "        tmpdir = os.path.join(self.dir, 'webGen')\n",
    "        for s in os.listdir(tmpdir):\n",
    "            ss = os.path.join(tmpdir, s)\n",
    "            if os.path.isfile(ss):\n",
    "                if not (s in self.allFnames['CSVfull'] or \n",
    "                        s in self.allFnames['CSVcrop'] or \n",
    "                        s in self.allFnames['CSVspec'] or \n",
    "                        s in self.allFnames['RGBwithPOV'] or \n",
    "                        s in self.allFnames['BMPwithPOV']):\n",
    "                    print(\"removed file: webGen/\", s)\n",
    "                    os.remove(ss)                \n",
    "            if os.path.isdir(ss):\n",
    "                shutil.rmtree(ss)\n",
    "                print(\"removed directory: webGen/\", s) \n",
    "    def read_ids(self, tmpdict, display = False):\n",
    "        self.usingTypes['origRGB']    = tmpdict['origRGB']    if (\"origRGB\"    in tmpdict) else False\n",
    "        self.usingTypes['json']       = tmpdict['json']       if (\"json\"       in tmpdict) else False\n",
    "        self.usingTypes['rawBMPs']    = tmpdict['rawBMPs']    if (\"rawBMPs\"    in tmpdict) else False\n",
    "        self.usingTypes['CSVfull']    = tmpdict['CSVfull']    if (\"CSVfull\"    in tmpdict) else False\n",
    "        self.usingTypes['CSVcrop']    = tmpdict['CSVcrop']    if (\"CSVcrop\"    in tmpdict) else False\n",
    "        self.usingTypes['CSVspec']    = tmpdict['CSVspec']    if (\"CSVspec\"    in tmpdict) else False\n",
    "        self.usingTypes['RGBwithPOV'] = tmpdict['RGBwithPOV'] if (\"RGBwithPOV\" in tmpdict) else False\n",
    "        self.usingTypes['BMPwithPOV'] = tmpdict['BMPwithPOV'] if (\"BMPwithPOV\" in tmpdict) else False\n",
    "        \n",
    "        self.usingUniqueID_inSeperateBuckets = []  #unique IDs over all set files (in seperate in their file types)\n",
    "        if self.usingTypes['origRGB']:\n",
    "            self.usingUniqueID_inSeperateBuckets.append([fname.split('.')[0]  for fname in self.allFnames['origRGB']])\n",
    "            print((\"origRGB   :unique count: {}\\n\".format(len(self.usingUniqueID_inSeperateBuckets[-1])) if display else ''),  end='')\n",
    "        if self.usingTypes['json']:\n",
    "            self.usingUniqueID_inSeperateBuckets.append([fname.split('.')[0]  for fname in self.allFnames['json']])\n",
    "            print((\"json      :unique count: {}\\n\".format(len(self.usingUniqueID_inSeperateBuckets[-1])) if display else ''),  end='')\n",
    "        if self.usingTypes['CSVfull']:\n",
    "            self.usingUniqueID_inSeperateBuckets.append([fname.split('_')[0] + '_'+ fname.split('_')[1]  for fname in self.allFnames['CSVfull']])\n",
    "            print((\"CSVfull   :unique count: {}\\n\".format(len(self.usingUniqueID_inSeperateBuckets[-1])) if display else ''),  end='')\n",
    "        if self.usingTypes['CSVcrop']:\n",
    "            self.usingUniqueID_inSeperateBuckets.append([fname.split('_')[0] + '_'+ fname.split('_')[1]  for fname in self.allFnames['CSVcrop']])\n",
    "            print((\"CSVcrop   :unique count: {}\\n\".format(len(self.usingUniqueID_inSeperateBuckets[-1])) if display else ''),  end='')\n",
    "        if self.usingTypes['CSVspec']:\n",
    "            self.usingUniqueID_inSeperateBuckets.append([fname.split('_')[0] + '_'+ fname.split('_')[1]  for fname in self.allFnames['CSVspec']])\n",
    "            print((\"CSVspec   :unique count: {}\\n\".format(len(self.usingUniqueID_inSeperateBuckets[-1])) if display else ''),  end='')\n",
    "        if self.usingTypes['RGBwithPOV']:\n",
    "            self.usingUniqueID_inSeperateBuckets.append([fname.split('.')[0]  for fname in self.allFnames['RGBwithPOV']])\n",
    "            print((\"RGBwithPOV:unique count: {}\\n\".format(len(self.usingUniqueID_inSeperateBuckets[-1])) if display else ''),  end='')\n",
    "        if self.usingTypes['BMPwithPOV']:\n",
    "            self.usingUniqueID_inSeperateBuckets.append([fname.split('.')[0]  for fname in self.allFnames['BMPwithPOV']])\n",
    "            print((\"BMPwithPOV:unique count: {}\\n\".format(len(self.usingUniqueID_inSeperateBuckets[-1])) if display else ''),  end='')\n",
    "        if self.usingTypes['rawBMPs']:\n",
    "            self.usingUniqueID_inSeperateBuckets.append(list(set([fname.split('_')[0] + '_'+ fname.split('_')[1]  for fname in self.allFnames['rawBMPs']])))\n",
    "            print((\"rawBMPs   :unique count: {}\\n\".format(len(self.usingUniqueID_inSeperateBuckets[-1])) if display else ''),  end='')\n",
    "            #self.usingUniqueID_inSeperateBuckets.append([fname.split('.')[0]  for fname in self.allFnames['rawBMPs']])\n",
    "            #since rawBMPs have multiple files in a single shot, and I want only ID's so I did following\n",
    "        \n",
    "        #now calculating unique IDs over all set of files\n",
    "        print((\"============================\\n\" if display else ''),  end='')\n",
    "\n",
    "        self.usingUniqueIDs = []\n",
    "        Tmp = len(self.usingUniqueID_inSeperateBuckets)\n",
    "        for i in range(len(self.usingUniqueID_inSeperateBuckets[0])):\n",
    "            tmpID = self.usingUniqueID_inSeperateBuckets[0][i]\n",
    "            tmpbool = True\n",
    "            for t in range(1,Tmp):\n",
    "                tmpbool = tmpbool and (tmpID in self.usingUniqueID_inSeperateBuckets[t])\n",
    "                if not tmpbool:\n",
    "                    print((\"- incomplete shot: {} has no {}\\n\".format(tmpID, list(tmpdict.keys())[t]) if display else ''),  end='')\n",
    "                    break\n",
    "            if tmpbool:\n",
    "                self.usingUniqueIDs.append(tmpID)\n",
    "           \n",
    "        self.usingUniqueIDs.sort()\n",
    "        self.numShots = len(self.usingUniqueIDs)\n",
    "        print((\"==============================================\\nIn Given types, {} unique shots in this Set.\\n\".format(self.numShots) if display else ''),  end='')\n",
    "        \n",
    "        \n",
    "        for i in range(self.numShots):\n",
    "            tmpid       = self.usingUniqueIDs[i]\n",
    "            tmp_dirorigRGB = os.path.join(self.dir,  '{}.jpg'.format(tmpid)) if self.usingTypes['origRGB']    else None\n",
    "            tmp_dirjson    = os.path.join(self.dir, '{}.json'.format(tmpid)) if self.usingTypes['json']       else None\n",
    "            tmp_dirrawBMPs = [(os.path.join(sf.dir,'rawBMPs', fnamebmps)) for fnamebmps in os.listdir(os.path.join(sf.dir,'rawBMPs')) if tmpid in fnamebmps] \n",
    "\n",
    "            #tmp_dirrawBMPs = os.path.join(self.dir,'rawBMPs', '{}.jpeg'.format(tmpid)) if self.usingTypes['rawBMPs']    else None\n",
    "            tmp_dirCSVfull = os.path.join(self.dir,'webGen',  '{}_full.csv'.format(tmpid)) if self.usingTypes['CSVfull']    else None\n",
    "            tmp_dirCSVcrop = os.path.join(self.dir,'webGen',  '{}_crop.csv'.format(tmpid)) if self.usingTypes['CSVcrop']    else None\n",
    "            tmp_dirCSVspec = os.path.join(self.dir,'webGen',  '{}_spec_NDVI.csv'.format(tmpid)) if self.usingTypes['CSVspec']    else None\n",
    "            tmp_RGBwithPOV = os.path.join(self.dir,'webGen',  '{}.jpeg'.format(tmpid)) if self.usingTypes['RGBwithPOV'] else None\n",
    "            tmp_BMPwithPOV = os.path.join(self.dir,'webGen',   '{}.png'.format(tmpid)) if self.usingTypes['BMPwithPOV'] else None\n",
    "            self.shots.append(SingleShot(id             = tmpid,\n",
    "                                         origRGB_dir    = tmp_dirorigRGB, \n",
    "                                         json_dir       = tmp_dirjson, \n",
    "                                         rawBMPs_dirs   = tmp_dirrawBMPs, \n",
    "                                         CSVfull_dir    = tmp_dirCSVfull, \n",
    "                                         CSVcrop_dir    = tmp_dirCSVcrop,\n",
    "                                         CSVspec_dir    = tmp_dirCSVspec,\n",
    "                                         RGBwithPOV_dir = tmp_RGBwithPOV,\n",
    "                                         BMPwithPOV_dir = tmp_BMPwithPOV,\n",
    "                                        ))\n",
    "    def mkdir_pcGen(self):\n",
    "        if not (os.path.isdir(self.dir_pcGen)):\n",
    "            os.mkdir(self.dir_pcGen)\n",
    "            \n",
    "    def compose_pcGen_setWave(self, source, display = False):\n",
    "        self.mkdir_pcGen()\n",
    "        if self.numShots == 0:\n",
    "            print(\"None shots in the folder\")\n",
    "            return\n",
    "        if (source == self.from_webGen):\n",
    "            print((\"Composing wavelengths from webGen\\n\" if display else ''), end = '')\n",
    "            self.setWave = np.zeros((self.numShots, 1,280))\n",
    "            for i in range(self.numShots):\n",
    "                tmpPdWeb = pd.read_csv(self.shots[i].CSVfull_dir)\n",
    "                self.setWave[i,0,:]  = np.array(pd.read_csv(self.shots[i].CSVfull_dir)['WAVELENGTH'])\n",
    "            np.save(os.path.join(self.dir_pcGen, 'setWave'), self.setWave)\n",
    "            print((\"Saved as pcGen/setWave.npy\\n\" if display else ''), end = '')\n",
    "            return\n",
    "        elif (source == self.from_rawBMPs):\n",
    "            pass\n",
    "        \n",
    "    def compose_pcGen_setGray(self, source, display = False):\n",
    "        self.mkdir_pcGen()\n",
    "        if self.numShots == 0:\n",
    "            print(\"None shots in the folder\")\n",
    "            return\n",
    "        if (source == self.from_webGen):\n",
    "            print((\"Composing Gray pixel values from webGen\\n\" if display else ''), end = '')\n",
    "            self.setGray = np.zeros((self.numShots, 1,280))\n",
    "            for i in range(self.numShots):\n",
    "                tmpPdWeb = pd.read_csv(self.shots[i].CSVfull_dir)\n",
    "                self.setGray[i,0,:]  = np.array(pd.read_csv(self.shots[i].CSVfull_dir)['GRAY'])\n",
    "            np.save(os.path.join(self.dir_pcGen, 'setGray'), self.setGray)\n",
    "            print((\"Saved as pcGen/setGray.npy\\n\" if display else ''), end = '')\n",
    "            return\n",
    "        elif (source == self.from_rawBMPs):\n",
    "            pass\n",
    "        else:\n",
    "            print(\"Mistake: <source> wrong: source = ....from_webGen or ....from_rawBMPs\")\n",
    "            \n",
    "    def compose_pcGen_setLeaf(self, source, display = False):\n",
    "        self.mkdir_pcGen()\n",
    "        if self.numShots == 0:\n",
    "            print(\"None shots in the folder\")\n",
    "            return\n",
    "        if (source == self.from_webGen):\n",
    "            print((\"Composing Leaf pixel values from webGen\\n\" if display else ''), end = '')\n",
    "            self.setLeaf = np.zeros((self.numShots, 1,280))\n",
    "            for i in range(self.numShots):\n",
    "                tmpPdWeb = pd.read_csv(self.shots[i].CSVfull_dir)\n",
    "                self.setLeaf[i,0,:]  = np.array(pd.read_csv(self.shots[i].CSVfull_dir)['LEAF'])\n",
    "            np.save(os.path.join(self.dir_pcGen, 'setLeaf'), self.setLeaf)\n",
    "            print((\"Saved as pcGen/setLeaf.npy\\n\" if display else ''), end = '')\n",
    "            return\n",
    "        elif (source == self.from_rawBMPs):\n",
    "            pass\n",
    "        else:\n",
    "            print(\"Mistake: <source> wrong: source = ....from_webGen or ....from_rawBMPs\")\n",
    "    \n",
    "    def compose_pcGen_setMask(self, leafRange = [16,255], grayRange = [16,255], display = False):\n",
    "        self.setGray = np.load(os.path.join(self.dir_pcGen, 'setGray.npy'))\n",
    "        self.setLeaf = np.load(os.path.join(self.dir_pcGen, 'setLeaf.npy'))\n",
    "        maskLeaf = np.logical_and(self.setLeaf >= leafRange[0], self.setLeaf <= leafRange[1])\n",
    "        maskGray = np.logical_and(self.setGray >= grayRange[0], self.setGray <= grayRange[1])\n",
    "        self.setMask  = np.logical_and(maskLeaf, maskGray)\n",
    "        \n",
    "        np.save(os.path.join(self.dir_pcGen, 'setMask'), self.setMask)\n",
    "        print((\"Saved as pcGen/setMask.npy\\n\" if display else ''), end = '')\n",
    "#         self.setMask = np.logical_and(np.where())\n",
    "        \n",
    "    def compose_pcGen_setWhite(self, source, BG = 10.5, display = False):\n",
    "        self.mkdir_pcGen()\n",
    "        if self.numShots == 0:\n",
    "            print(\"None shots in the folder\")\n",
    "            return\n",
    "        if (source == self.from_webGen):\n",
    "            print((\"Composing Leaf pixel values from webGen\\n\" if display else ''), end = '')\n",
    "            self.setWhite  = np.zeros((self.numShots,1, 280))\n",
    "            for i in range(self.numShots):\n",
    "                tmpPdWeb = pd.read_csv(self.shots[i].CSVfull_dir)\n",
    "                tmpGray  = np.array(pd.read_csv(self.shots[i].CSVfull_dir)['GRAY'])\n",
    "                self.setWhite[i,0,:] = (tmpGray-BG)/np.array(self.ratio['GRAY/WHITE'])+BG\n",
    "            np.save(os.path.join(self.dir_pcGen, 'setWhite'), self.setWhite)\n",
    "            print((\"Saved as pcGen/setWhite.npy\\n\" if display else ''), end = '')\n",
    "            return\n",
    "        elif (source == self.from_rawBMPs):\n",
    "            pass\n",
    "        else:\n",
    "            print(\"Mistake: <source> wrong: source = ....from_webGen or ....from_rawBMPs\")\n",
    "    \n",
    "        \n",
    "    def calcReflection(self,BG=10.5):\n",
    "        self.setWhite = np.load(os.path.join(self.dir_pcGen, 'setWhite.npy'))\n",
    "        self.setLeaf  = np.load(os.path.join(self.dir_pcGen, 'setLeaf.npy'))\n",
    "        self.setWave  = np.load(os.path.join(self.dir_pcGen, 'setWave.npy'))\n",
    "        if not(self.setWhite.shape == self.setLeaf.shape):\n",
    "            print(\"Err: shape of setWhite and setLeaf are not equal\")\n",
    "            return\n",
    "        self.numSection = self.setLeaf.shape[1]\n",
    "        self.Reflection = []\n",
    "        for i in range(self.numShots):\n",
    "            self.Reflection.append({})\n",
    "        for i in range(self.numShots):\n",
    "            for s in range(self.numSection):\n",
    "                tmpUsablePixelnum = np.sum(sf.setMask[i,s,:])\n",
    "                tmp = np.zeros((tmpUsablePixelnum, 2))\n",
    "#                 for j in range(tmpUsablePixelnum):\n",
    "                tmp[:,0] = self.setWave[i,s,:][self.setMask[i,s,:]]\n",
    "                tmp[:,1] = (self.setLeaf[i,s,:][self.setMask[i,s,:]]-BG)/(self.setWhite[i,s,:][self.setMask[i,s,:]]-BG)\n",
    "                self.Reflection[i]['section{}'.format(s)] = np.copy(tmp)\n",
    "                self.Reflection[i]['section{}_wavelength'.format(s)] = np.copy(tmp[:,0])\n",
    "                self.Reflection[i]['section{}_reflection'.format(s)] = np.copy(tmp[:,1])\n",
    "#                 plt.plot(tmp[:,0], tmp[:,1])\n",
    "#                 plt.show()\n",
    "#         self.Reflection = [[]]*self.numShots\n",
    "#         for i in range(self.numShots):\n",
    "#             tmp = []\n",
    "#             for s in range(self.numSection):\n",
    "#                 tmpUsablePixelnum = np.sum(sf.setMask[i,s,:])\n",
    "#                 tmp.append(self.setWave[i,s,:][self.setMask[i,s,:]])\n",
    "#                 tmp.append((self.setLeaf[i,s,:][self.setMask[i,s,:]]-BG)/(self.setWhite[i,s,:][self.setMask[i,s,:]]-BG) )\n",
    "#             self.Reflection[i]= tmp\n",
    "    \n",
    "        file = open(self.dir_pcGen_ref, 'wb')\n",
    "        pickle.dump(self.Reflection, file)\n",
    "        file.close()                \n",
    "        \n",
    "        \n",
    "    def save(self):\n",
    "        file = open(self.dir_pickle, 'wb')\n",
    "        pickle.dump(self, file)\n",
    "        file.close()                \n",
    "    def load(self, _dir_):\n",
    "        #         print(_dir_)\n",
    "        file = open(self.dir_pickle, 'rb')\n",
    "        tmp = pickle.load(file)\n",
    "        self.__dict__ = tmp.__dict__\n",
    "        #         print(type(tmp.__dict__))\n",
    "        file.close()\n",
    "        print('read from {}'.format(self.dir_pickle))"
   ]
  },
  {
   "cell_type": "code",
   "execution_count": 189,
   "metadata": {},
   "outputs": [
    {
     "name": "stdout",
     "output_type": "stream",
     "text": [
      "origRGB   :unique count: 326\n",
      "json      :unique count: 326\n",
      "CSVfull   :unique count: 326\n",
      "CSVcrop   :unique count: 326\n",
      "CSVspec   :unique count: 326\n",
      "RGBwithPOV:unique count: 326\n",
      "BMPwithPOV:unique count: 326\n",
      "rawBMPs   :unique count: 326\n",
      "============================\n",
      "- incomplete shot: 20191221_111708 has no json\n",
      "==============================================\n",
      "In Given types, 325 unique shots in this Set.\n"
     ]
    }
   ],
   "source": [
    "Types = {\n",
    "    \"origRGB\"   : True,\n",
    "    \"json\"      : True,\n",
    "    \"rawBMPs\"   : True,\n",
    "    \"CSVfull\"   : True,\n",
    "    \"CSVcrop\"   : True,\n",
    "    \"CSVspec\"   : True,\n",
    "    \"RGBwithPOV\": True,\n",
    "    \"BMPwithPOV\": True,\n",
    "}\n",
    "sf = SetFormatter('/home/garid/myGit/spectrumCatcher/spectrumCatcher/tests/dname1221/13h_', Types)\n",
    "sf.read_ids(Types, display=True)"
   ]
  },
  {
   "cell_type": "code",
   "execution_count": 190,
   "metadata": {},
   "outputs": [],
   "source": [
    "# sf.cleanFiles()"
   ]
  },
  {
   "cell_type": "code",
   "execution_count": 191,
   "metadata": {},
   "outputs": [
    {
     "name": "stdout",
     "output_type": "stream",
     "text": [
      "Composing wavelengths from webGen\n",
      "Saved as pcGen/setWave.npy\n",
      "Composing Gray pixel values from webGen\n",
      "Saved as pcGen/setGray.npy\n",
      "Composing Leaf pixel values from webGen\n",
      "Saved as pcGen/setLeaf.npy\n",
      "Composing Leaf pixel values from webGen\n",
      "Saved as pcGen/setWhite.npy\n",
      "Saved as pcGen/setMask.npy\n"
     ]
    }
   ],
   "source": [
    "sf.compose_pcGen_setWave(sf.from_webGen, True)\n",
    "sf.compose_pcGen_setGray(sf.from_webGen, True)\n",
    "sf.compose_pcGen_setLeaf(sf.from_webGen, True)\n",
    "sf.compose_pcGen_setWhite(sf.from_webGen, BG=10.5,display=True)\n",
    "sf.compose_pcGen_setMask(display = True)"
   ]
  },
  {
   "cell_type": "code",
   "execution_count": 192,
   "metadata": {},
   "outputs": [
    {
     "data": {
      "text/html": [
       "<div>\n",
       "<style scoped>\n",
       "    .dataframe tbody tr th:only-of-type {\n",
       "        vertical-align: middle;\n",
       "    }\n",
       "\n",
       "    .dataframe tbody tr th {\n",
       "        vertical-align: top;\n",
       "    }\n",
       "\n",
       "    .dataframe thead th {\n",
       "        text-align: right;\n",
       "    }\n",
       "</style>\n",
       "<table border=\"1\" class=\"dataframe\">\n",
       "  <thead>\n",
       "    <tr style=\"text-align: right;\">\n",
       "      <th></th>\n",
       "      <th>Unnamed: 0</th>\n",
       "      <th>PIXEL</th>\n",
       "      <th>WAVELENGTH</th>\n",
       "      <th>GRAY/WHITE</th>\n",
       "    </tr>\n",
       "  </thead>\n",
       "  <tbody>\n",
       "    <tr>\n",
       "      <th>0</th>\n",
       "      <td>0</td>\n",
       "      <td>92</td>\n",
       "      <td>442.6</td>\n",
       "      <td>0.5002</td>\n",
       "    </tr>\n",
       "    <tr>\n",
       "      <th>1</th>\n",
       "      <td>1</td>\n",
       "      <td>93</td>\n",
       "      <td>444.8</td>\n",
       "      <td>0.4979</td>\n",
       "    </tr>\n",
       "    <tr>\n",
       "      <th>2</th>\n",
       "      <td>2</td>\n",
       "      <td>94</td>\n",
       "      <td>447.0</td>\n",
       "      <td>0.4958</td>\n",
       "    </tr>\n",
       "    <tr>\n",
       "      <th>3</th>\n",
       "      <td>3</td>\n",
       "      <td>95</td>\n",
       "      <td>449.2</td>\n",
       "      <td>0.4941</td>\n",
       "    </tr>\n",
       "    <tr>\n",
       "      <th>4</th>\n",
       "      <td>4</td>\n",
       "      <td>96</td>\n",
       "      <td>451.4</td>\n",
       "      <td>0.4927</td>\n",
       "    </tr>\n",
       "    <tr>\n",
       "      <th>...</th>\n",
       "      <td>...</td>\n",
       "      <td>...</td>\n",
       "      <td>...</td>\n",
       "      <td>...</td>\n",
       "    </tr>\n",
       "    <tr>\n",
       "      <th>275</th>\n",
       "      <td>275</td>\n",
       "      <td>367</td>\n",
       "      <td>1047.6</td>\n",
       "      <td>0.9287</td>\n",
       "    </tr>\n",
       "    <tr>\n",
       "      <th>276</th>\n",
       "      <td>276</td>\n",
       "      <td>368</td>\n",
       "      <td>1049.8</td>\n",
       "      <td>0.9287</td>\n",
       "    </tr>\n",
       "    <tr>\n",
       "      <th>277</th>\n",
       "      <td>277</td>\n",
       "      <td>369</td>\n",
       "      <td>1052.0</td>\n",
       "      <td>0.9287</td>\n",
       "    </tr>\n",
       "    <tr>\n",
       "      <th>278</th>\n",
       "      <td>278</td>\n",
       "      <td>370</td>\n",
       "      <td>1054.2</td>\n",
       "      <td>0.9287</td>\n",
       "    </tr>\n",
       "    <tr>\n",
       "      <th>279</th>\n",
       "      <td>279</td>\n",
       "      <td>371</td>\n",
       "      <td>1056.4</td>\n",
       "      <td>0.9287</td>\n",
       "    </tr>\n",
       "  </tbody>\n",
       "</table>\n",
       "<p>280 rows × 4 columns</p>\n",
       "</div>"
      ],
      "text/plain": [
       "     Unnamed: 0  PIXEL  WAVELENGTH  GRAY/WHITE\n",
       "0             0     92       442.6      0.5002\n",
       "1             1     93       444.8      0.4979\n",
       "2             2     94       447.0      0.4958\n",
       "3             3     95       449.2      0.4941\n",
       "4             4     96       451.4      0.4927\n",
       "..          ...    ...         ...         ...\n",
       "275         275    367      1047.6      0.9287\n",
       "276         276    368      1049.8      0.9287\n",
       "277         277    369      1052.0      0.9287\n",
       "278         278    370      1054.2      0.9287\n",
       "279         279    371      1056.4      0.9287\n",
       "\n",
       "[280 rows x 4 columns]"
      ]
     },
     "execution_count": 192,
     "metadata": {},
     "output_type": "execute_result"
    }
   ],
   "source": [
    "sf.ratio"
   ]
  },
  {
   "cell_type": "code",
   "execution_count": 193,
   "metadata": {
    "scrolled": true
   },
   "outputs": [],
   "source": [
    "sf.calcReflection()"
   ]
  },
  {
   "cell_type": "code",
   "execution_count": 275,
   "metadata": {},
   "outputs": [
    {
     "data": {
      "text/plain": [
       "['/home/garid/myGit/spectrumCatcher/spectrumCatcher/tests/dname1221/13h_/rawBMPs/20191221_111735_0.bmp',\n",
       " '/home/garid/myGit/spectrumCatcher/spectrumCatcher/tests/dname1221/13h_/rawBMPs/20191221_111735_1.bmp',\n",
       " '/home/garid/myGit/spectrumCatcher/spectrumCatcher/tests/dname1221/13h_/rawBMPs/20191221_111735_2.bmp',\n",
       " '/home/garid/myGit/spectrumCatcher/spectrumCatcher/tests/dname1221/13h_/rawBMPs/20191221_111735_3.bmp',\n",
       " '/home/garid/myGit/spectrumCatcher/spectrumCatcher/tests/dname1221/13h_/rawBMPs/20191221_111735_5.bmp',\n",
       " '/home/garid/myGit/spectrumCatcher/spectrumCatcher/tests/dname1221/13h_/rawBMPs/20191221_111735_6.bmp',\n",
       " '/home/garid/myGit/spectrumCatcher/spectrumCatcher/tests/dname1221/13h_/rawBMPs/20191221_111735_7.bmp',\n",
       " '/home/garid/myGit/spectrumCatcher/spectrumCatcher/tests/dname1221/13h_/rawBMPs/20191221_111735_8.bmp',\n",
       " '/home/garid/myGit/spectrumCatcher/spectrumCatcher/tests/dname1221/13h_/rawBMPs/20191221_111735_10.bmp',\n",
       " '/home/garid/myGit/spectrumCatcher/spectrumCatcher/tests/dname1221/13h_/rawBMPs/20191221_111735_11.bmp',\n",
       " '/home/garid/myGit/spectrumCatcher/spectrumCatcher/tests/dname1221/13h_/rawBMPs/20191221_111735_12.bmp',\n",
       " '/home/garid/myGit/spectrumCatcher/spectrumCatcher/tests/dname1221/13h_/rawBMPs/20191221_111735_13.bmp',\n",
       " '/home/garid/myGit/spectrumCatcher/spectrumCatcher/tests/dname1221/13h_/rawBMPs/20191221_111735_14.bmp']"
      ]
     },
     "execution_count": 275,
     "metadata": {},
     "output_type": "execute_result"
    }
   ],
   "source": [
    "sf.shots[12].rawBMPs_dirs"
   ]
  },
  {
   "cell_type": "code",
   "execution_count": 276,
   "metadata": {},
   "outputs": [],
   "source": [
    "filename = sf.shots[12].rawBMPs_dirs[0]\n",
    "img = imageio.imread(filename)"
   ]
  },
  {
   "cell_type": "code",
   "execution_count": 278,
   "metadata": {},
   "outputs": [
    {
     "data": {
      "text/plain": [
       "<matplotlib.image.AxesImage at 0x7f2edc43c910>"
      ]
     },
     "execution_count": 278,
     "metadata": {},
     "output_type": "execute_result"
    },
    {
     "data": {
      "image/png": "[encoded data removed]",
      "text/plain": [
       "<Figure size 432x288 with 1 Axes>"
      ]
     },
     "metadata": {
      "needs_background": "light"
     },
     "output_type": "display_data"
    }
   ],
   "source": [
    "plt.imshow(img)\n"
   ]
  },
  {
   "cell_type": "code",
   "execution_count": 200,
   "metadata": {},
   "outputs": [
    {
     "data": {
      "text/plain": [
       "(480, 640)"
      ]
     },
     "execution_count": 200,
     "metadata": {},
     "output_type": "execute_result"
    }
   ],
   "source": [
    "img.shape"
   ]
  },
  {
   "cell_type": "code",
   "execution_count": 279,
   "metadata": {},
   "outputs": [],
   "source": [
    "def get_spectrum(filename, startpixel, endpixel, outputfile = None):\n",
    "    img = np.rot90(imageio.imread(filename), k = 3)\n",
    "    tmp = img[startpixel:endpixel, :]           #for mono bmp file (without blue/red lines)\n",
    "    tmp = np.mean(tmp, 0)\n",
    "\n",
    "    if outputfile != None:\n",
    "        np.savetxt(outputfile, tmp, delimiter=',')\n",
    "        print('saved as \\\"', outputfile, '\\\"')\n",
    "    return tmp\n",
    "\n",
    "def grayToWhite(grayNarray):\n",
    "\tgrayTowhiteRATIO = np.array([0.7709, 0.7709, 0.7709, 0.7709, 0.7709, 0.7709, 0.7709, 0.7709,\n",
    "       0.7709, 0.7709, 0.7709, 0.7709, 0.7709, 0.7709, 0.7709, 0.7709,\n",
    "       0.7709, 0.7709, 0.7709, 0.7709, 0.7709, 0.7709, 0.7709, 0.7709,\n",
    "       0.7709, 0.7709, 0.7709, 0.7709, 0.7709, 0.7709, 0.7709, 0.7709,\n",
    "       0.7709, 0.7709, 0.7709, 0.7709, 0.7709, 0.7709, 0.7709, 0.7709,\n",
    "       0.7709, 0.7709, 0.7709, 0.7709, 0.7709, 0.7709, 0.7709, 0.7708,\n",
    "       0.7688, 0.7665, 0.764 , 0.7601, 0.7552, 0.7493, 0.7424, 0.7348,\n",
    "       0.7261, 0.7162, 0.7056, 0.6944, 0.6829, 0.6712, 0.6595, 0.6479,\n",
    "       0.6367, 0.6267, 0.6179, 0.6098, 0.603 , 0.5975, 0.5923, 0.5867,\n",
    "       0.5812, 0.576 , 0.571 , 0.5661, 0.5614, 0.5569, 0.5526, 0.5479,\n",
    "       0.5428, 0.5377, 0.5328, 0.5281, 0.5238, 0.5201, 0.5169, 0.5138,\n",
    "       0.5109, 0.5083, 0.5055, 0.5028, 0.5002, 0.4979, 0.4958, 0.4941,\n",
    "       0.4927, 0.4916, 0.4904, 0.4892, 0.4882, 0.487 , 0.4858, 0.4845,\n",
    "       0.4834, 0.4824, 0.4812, 0.4802, 0.4792, 0.4781, 0.4768, 0.4754,\n",
    "       0.474 , 0.4727, 0.4715, 0.4703, 0.4693, 0.4685, 0.4677, 0.467 ,\n",
    "       0.4663, 0.4654, 0.4646, 0.4638, 0.4631, 0.4624, 0.4618, 0.4611,\n",
    "       0.4604, 0.4595, 0.4586, 0.4577, 0.4568, 0.4559, 0.4551, 0.4542,\n",
    "       0.4534, 0.4526, 0.452 , 0.4515, 0.4512, 0.4512, 0.4512, 0.4512,\n",
    "       0.4513, 0.4514, 0.4516, 0.4519, 0.4521, 0.4522, 0.4522, 0.4521,\n",
    "       0.4519, 0.4516, 0.4512, 0.4506, 0.45  , 0.4493, 0.4484, 0.4476,\n",
    "       0.4468, 0.446 , 0.4454, 0.4448, 0.4443, 0.4439, 0.4436, 0.4434,\n",
    "       0.4434, 0.4436, 0.4438, 0.4442, 0.4447, 0.4452, 0.4458, 0.4465,\n",
    "       0.4472, 0.4478, 0.4485, 0.4492, 0.4499, 0.4506, 0.4514, 0.4522,\n",
    "       0.4532, 0.4543, 0.4556, 0.4571, 0.4588, 0.4607, 0.4629, 0.4653,\n",
    "       0.4679, 0.4706, 0.4737, 0.477 , 0.4808, 0.4848, 0.4889, 0.4932,\n",
    "       0.4979, 0.5027, 0.5077, 0.5129, 0.5181, 0.5234, 0.529 , 0.5345,\n",
    "       0.5401, 0.5455, 0.551 , 0.5565, 0.5622, 0.568 , 0.5737, 0.5792,\n",
    "       0.5847, 0.5904, 0.5962, 0.602 , 0.6079, 0.6137, 0.6197, 0.6259,\n",
    "       0.6323, 0.6388, 0.6455, 0.6522, 0.659 , 0.666 , 0.6729, 0.6799,\n",
    "       0.687 , 0.6942, 0.7017, 0.7091, 0.7165, 0.724 , 0.7314, 0.739 ,\n",
    "       0.7465, 0.754 , 0.7614, 0.7687, 0.776 , 0.7832, 0.7903, 0.7974,\n",
    "       0.8044, 0.8112, 0.8178, 0.8242, 0.8303, 0.8362, 0.8417, 0.8469,\n",
    "       0.8519, 0.8568, 0.8614, 0.8658, 0.8701, 0.8742, 0.8781, 0.8816,\n",
    "       0.885 , 0.8882, 0.8913, 0.8942, 0.8968, 0.8991, 0.9012, 0.9033,\n",
    "       0.9052, 0.9069, 0.9084, 0.9099, 0.9112, 0.9124, 0.9134, 0.9145,\n",
    "       0.9156, 0.9165, 0.9174, 0.9182, 0.9189, 0.9196, 0.9204, 0.9212,\n",
    "       0.922 , 0.9227, 0.9234, 0.9239, 0.9243, 0.9248, 0.9252, 0.9256,\n",
    "       0.926 , 0.9264, 0.9267, 0.927 , 0.9272, 0.9274, 0.9275, 0.9277,\n",
    "       0.9277, 0.9277, 0.9277, 0.9278, 0.9279, 0.928 , 0.9281, 0.9283,\n",
    "       0.9284, 0.9286, 0.9287, 0.9287, 0.9287, 0.9287, 0.9287, 0.9287,\n",
    "       0.9287, 0.9287, 0.9287, 0.9287, 0.9287, 0.9287, 0.9287, 0.9287,\n",
    "       0.9287, 0.9287, 0.9287, 0.9287, 0.9287, 0.9287, 0.9287, 0.9287,\n",
    "       0.9287, 0.9287, 0.9287, 0.9287, 0.9287, 0.9287, 0.9287, 0.9287,\n",
    "       0.9287, 0.9287, 0.9287, 0.9287, 0.9287, 0.9287, 0.9287, 0.9287,\n",
    "       0.9287, 0.9287, 0.9287, 0.9287, 0.9287, 0.9287, 0.9287, 0.9287,\n",
    "       0.9287, 0.9287, 0.9287, 0.9287, 0.9287, 0.9287, 0.9287, 0.9287,\n",
    "       0.9287, 0.9287, 0.9287, 0.9287, 0.9287, 0.9287, 0.9287, 0.9287,\n",
    "       0.9287, 0.9287, 0.9287, 0.9287, 0.9287, 0.9287, 0.9287, 0.9287,\n",
    "       0.9287, 0.9287, 0.9287, 0.9287, 0.9287, 0.9287, 0.9287, 0.9287,\n",
    "       0.9287, 0.9287, 0.9287, 0.9287, 0.9287, 0.9287, 0.9287, 0.9287,\n",
    "       0.9287, 0.9287, 0.9287, 0.9287, 0.9287, 0.9287, 0.9287, 0.9287,\n",
    "       0.9287, 0.9287, 0.9287, 0.9287, 0.9287, 0.9287, 0.9287, 0.9287,\n",
    "       0.9287, 0.9287, 0.9287, 0.9287, 0.9287, 0.9287, 0.9287, 0.9287,\n",
    "       0.9287, 0.9287, 0.9287, 0.9287, 0.9287, 0.9287, 0.9287, 0.9287,\n",
    "       0.9287, 0.9287, 0.9287, 0.9287, 0.9287, 0.9287, 0.9287, 0.9287,\n",
    "       0.9287, 0.9287, 0.9287, 0.9287, 0.9287, 0.9287, 0.9287, 0.9287,\n",
    "       0.9287, 0.9287, 0.9287, 0.9287, 0.9287, 0.9287, 0.9287, 0.9287,\n",
    "       0.9287, 0.9287, 0.9287, 0.9287, 0.9287, 0.9287, 0.9287, 0.9287,\n",
    "       0.9287, 0.9287, 0.9287, 0.9287, 0.9287, 0.9287, 0.9287, 0.9287,\n",
    "       0.9287, 0.9287, 0.9287, 0.9287, 0.9287, 0.9287, 0.9287, 0.9287])\n",
    "\t\n",
    "\treturn (grayNarray - 16) / grayTowhiteRATIO + 16 \n"
   ]
  },
  {
   "cell_type": "code",
   "execution_count": 280,
   "metadata": {},
   "outputs": [
    {
     "data": {
      "text/plain": [
       "[<matplotlib.lines.Line2D at 0x7f2edc4fdac0>]"
      ]
     },
     "execution_count": 280,
     "metadata": {},
     "output_type": "execute_result"
    },
    {
     "data": {
      "image/png": "[encoded data removed]",
      "text/plain": [
       "<Figure size 432x288 with 1 Axes>"
      ]
     },
     "metadata": {
      "needs_background": "light"
     },
     "output_type": "display_data"
    }
   ],
   "source": [
    "plt.plot(get_spectrum(filename, 237, 307))\n",
    "plt.plot(get_spectrum(filename, 335, 365))\n",
    "plt.plot(grayToWhite(get_spectrum(filename, 335, 365)))"
   ]
  },
  {
   "cell_type": "code",
   "execution_count": 224,
   "metadata": {
    "collapsed": true
   },
   "outputs": [
    {
     "ename": "SyntaxError",
     "evalue": "invalid syntax (<ipython-input-224-238be9fcbd2b>, line 4)",
     "output_type": "error",
     "traceback": [
      "\u001b[0;36m  File \u001b[0;32m\"<ipython-input-224-238be9fcbd2b>\"\u001b[0;36m, line \u001b[0;32m4\u001b[0m\n\u001b[0;31m    0.7709, 0.7709, 0.7709, 0.7709, 0.7 709, 0.7709, 0.7709, 0.7709,\u001b[0m\n\u001b[0m                                        ^\u001b[0m\n\u001b[0;31mSyntaxError\u001b[0m\u001b[0;31m:\u001b[0m invalid syntax\n"
     ]
    }
   ],
   "source": []
  },
  {
   "cell_type": "code",
   "execution_count": 281,
   "metadata": {
    "scrolled": true
   },
   "outputs": [
    {
     "data": {
      "image/png": "[encoded data removed]",
      "text/plain": [
       "<Figure size 432x288 with 1 Axes>"
      ]
     },
     "metadata": {
      "needs_background": "light"
     },
     "output_type": "display_data"
    }
   ],
   "source": [
    "whites = []\n",
    "for fname in sf.shots[12].rawBMPs_dirs:\n",
    "    plt.plot(grayToWhite(get_spectrum(fname, 335, 365)))\n",
    "    whites.append(grayToWhite(get_spectrum(fname, 335, 365)))"
   ]
  },
  {
   "cell_type": "code",
   "execution_count": 282,
   "metadata": {},
   "outputs": [],
   "source": [
    "white = np.array(whites)"
   ]
  },
  {
   "cell_type": "code",
   "execution_count": 283,
   "metadata": {},
   "outputs": [
    {
     "data": {
      "text/plain": [
       "(13, 480)"
      ]
     },
     "execution_count": 283,
     "metadata": {},
     "output_type": "execute_result"
    }
   ],
   "source": [
    "white.shape"
   ]
  },
  {
   "cell_type": "code",
   "execution_count": 284,
   "metadata": {},
   "outputs": [],
   "source": [
    "X = np.zeros((13, 480))\n",
    "for i in range(13):\n",
    "    X[i,:] = np.arange(480)"
   ]
  },
  {
   "cell_type": "code",
   "execution_count": 285,
   "metadata": {},
   "outputs": [
    {
     "data": {
      "text/plain": [
       "array([  0.,   1.,   2.,   3.,   4.,   5.,   6.,   7.,   8.,   9.,  10.,\n",
       "        11.,  12.,  13.,  14.,  15.,  16.,  17.,  18.,  19.,  20.,  21.,\n",
       "        22.,  23.,  24.,  25.,  26.,  27.,  28.,  29.,  30.,  31.,  32.,\n",
       "        33.,  34.,  35.,  36.,  37.,  38.,  39.,  40.,  41.,  42.,  43.,\n",
       "        44.,  45.,  46.,  47.,  48.,  49.,  50.,  51.,  52.,  53.,  54.,\n",
       "        55.,  56.,  57.,  58.,  59.,  60.,  61.,  62.,  63.,  64.,  65.,\n",
       "        66.,  67.,  68.,  69.,  70.,  71.,  72.,  73.,  74.,  75.,  76.,\n",
       "        77.,  78.,  79.,  80.,  81.,  82.,  83.,  84.,  85.,  86.,  87.,\n",
       "        88.,  89.,  90.,  91.,  92.,  93.,  94.,  95.,  96.,  97.,  98.,\n",
       "        99., 100., 101., 102., 103., 104., 105., 106., 107., 108., 109.,\n",
       "       110., 111., 112., 113., 114., 115., 116., 117., 118., 119., 120.,\n",
       "       121., 122., 123., 124., 125., 126., 127., 128., 129., 130., 131.,\n",
       "       132., 133., 134., 135., 136., 137., 138., 139., 140., 141., 142.,\n",
       "       143., 144., 145., 146., 147., 148., 149., 150., 151., 152., 153.,\n",
       "       154., 155., 156., 157., 158., 159., 160., 161., 162., 163., 164.,\n",
       "       165., 166., 167., 168., 169., 170., 171., 172., 173., 174., 175.,\n",
       "       176., 177., 178., 179., 180., 181., 182., 183., 184., 185., 186.,\n",
       "       187., 188., 189., 190., 191., 192., 193., 194., 195., 196., 197.,\n",
       "       198., 199., 200., 201., 202., 203., 204., 205., 206., 207., 208.,\n",
       "       209., 210., 211., 212., 213., 214., 215., 216., 217., 218., 219.,\n",
       "       220., 221., 222., 223., 224., 225., 226., 227., 228., 229., 230.,\n",
       "       231., 232., 233., 234., 235., 236., 237., 238., 239., 240., 241.,\n",
       "       242., 243., 244., 245., 246., 247., 248., 249., 250., 251., 252.,\n",
       "       253., 254., 255., 256., 257., 258., 259., 260., 261., 262., 263.,\n",
       "       264., 265., 266., 267., 268., 269., 270., 271., 272., 273., 274.,\n",
       "       275., 276., 277., 278., 279., 280., 281., 282., 283., 284., 285.,\n",
       "       286., 287., 288., 289., 290., 291., 292., 293., 294., 295., 296.,\n",
       "       297., 298., 299., 300., 301., 302., 303., 304., 305., 306., 307.,\n",
       "       308., 309., 310., 311., 312., 313., 314., 315., 316., 317., 318.,\n",
       "       319., 320., 321., 322., 323., 324., 325., 326., 327., 328., 329.,\n",
       "       330., 331., 332., 333., 334., 335., 336., 337., 338., 339., 340.,\n",
       "       341., 342., 343., 344., 345., 346., 347., 348., 349., 350., 351.,\n",
       "       352., 353., 354., 355., 356., 357., 358., 359., 360., 361., 362.,\n",
       "       363., 364., 365., 366., 367., 368., 369., 370., 371., 372., 373.,\n",
       "       374., 375., 376., 377., 378., 379., 380., 381., 382., 383., 384.,\n",
       "       385., 386., 387., 388., 389., 390., 391., 392., 393., 394., 395.,\n",
       "       396., 397., 398., 399., 400., 401., 402., 403., 404., 405., 406.,\n",
       "       407., 408., 409., 410., 411., 412., 413., 414., 415., 416., 417.,\n",
       "       418., 419., 420., 421., 422., 423., 424., 425., 426., 427., 428.,\n",
       "       429., 430., 431., 432., 433., 434., 435., 436., 437., 438., 439.,\n",
       "       440., 441., 442., 443., 444., 445., 446., 447., 448., 449., 450.,\n",
       "       451., 452., 453., 454., 455., 456., 457., 458., 459., 460., 461.,\n",
       "       462., 463., 464., 465., 466., 467., 468., 469., 470., 471., 472.,\n",
       "       473., 474., 475., 476., 477., 478., 479.])"
      ]
     },
     "execution_count": 285,
     "metadata": {},
     "output_type": "execute_result"
    }
   ],
   "source": [
    "X[0,:]"
   ]
  },
  {
   "cell_type": "code",
   "execution_count": 286,
   "metadata": {},
   "outputs": [
    {
     "data": {
      "text/plain": [
       "array([0, 1, 1, 1, 1, 1, 2, 2, 2, 2, 0, 0, 0], dtype=int32)"
      ]
     },
     "execution_count": 286,
     "metadata": {},
     "output_type": "execute_result"
    }
   ],
   "source": [
    "from sklearn.cluster import KMeans\n",
    "\n",
    "kmeans = KMeans(n_clusters=3, random_state=0).fit(white)\n",
    "kmeans.labels_\n",
    "\n",
    "\n",
    "\n"
   ]
  },
  {
   "cell_type": "code",
   "execution_count": 288,
   "metadata": {},
   "outputs": [
    {
     "data": {
      "image/png": "[encoded data removed]",
      "text/plain": [
       "<Figure size 432x288 with 1 Axes>"
      ]
     },
     "metadata": {
      "needs_background": "light"
     },
     "output_type": "display_data"
    }
   ],
   "source": [
    "whites = []\n",
    "for fname in sf.shots[12].rawBMPs_dirs:\n",
    "    plt.plot(grayToWhite(get_spectrum(fname, 335, 365)))\n",
    "    whites.append(grayToWhite(get_spectrum(fname, 335, 365)))"
   ]
  },
  {
   "cell_type": "code",
   "execution_count": 297,
   "metadata": {},
   "outputs": [
    {
     "data": {
      "image/png": "[encoded data removed]",
      "text/plain": [
       "<Figure size 432x288 with 1 Axes>"
      ]
     },
     "metadata": {
      "needs_background": "light"
     },
     "output_type": "display_data"
    },
    {
     "data": {
      "image/png": "[encoded data removed]",
      "text/plain": [
       "<Figure size 432x288 with 1 Axes>"
      ]
     },
     "metadata": {
      "needs_background": "light"
     },
     "output_type": "display_data"
    },
    {
     "data": {
      "image/png": "[encoded data removed]",
      "text/plain": [
       "<Figure size 432x288 with 1 Axes>"
      ]
     },
     "metadata": {
      "needs_background": "light"
     },
     "output_type": "display_data"
    }
   ],
   "source": [
    "for i in range(white[kmeans.labels_==0, :].shape[0]):\n",
    "    plt.plot(white[kmeans.labels_==0, :][i,:])\n",
    "plt.show()\n",
    "for i in range(white[kmeans.labels_==1, :].shape[0]):\n",
    "    plt.plot(white[kmeans.labels_==1, :][i,:])\n",
    "plt.show()\n",
    "for i in range(white[kmeans.labels_==2, :].shape[0]):\n",
    "    plt.plot(white[kmeans.labels_==2, :][i,:])\n",
    "plt.show()"
   ]
  },
  {
   "cell_type": "code",
   "execution_count": 290,
   "metadata": {},
   "outputs": [
    {
     "data": {
      "text/plain": [
       "(13, 480)"
      ]
     },
     "execution_count": 290,
     "metadata": {},
     "output_type": "execute_result"
    }
   ],
   "source": [
    "white.shape"
   ]
  },
  {
   "cell_type": "code",
   "execution_count": 293,
   "metadata": {},
   "outputs": [
    {
     "data": {
      "text/plain": [
       "array([ True, False, False, False, False, False, False, False, False,\n",
       "       False,  True,  True,  True])"
      ]
     },
     "execution_count": 293,
     "metadata": {},
     "output_type": "execute_result"
    }
   ],
   "source": [
    "kmeans.labels_==0"
   ]
  },
  {
   "cell_type": "code",
   "execution_count": null,
   "metadata": {},
   "outputs": [],
   "source": []
  }
 ],
 "metadata": {
  "kernelspec": {
   "display_name": "Python 3",
   "language": "python",
   "name": "python3"
  },
  "language_info": {
   "codemirror_mode": {
    "name": "ipython",
    "version": 3
   },
   "file_extension": ".py",
   "mimetype": "text/x-python",
   "name": "python",
   "nbconvert_exporter": "python",
   "pygments_lexer": "ipython3",
   "version": "3.8.5"
  }
 },
 "nbformat": 4,
 "nbformat_minor": 4
}
