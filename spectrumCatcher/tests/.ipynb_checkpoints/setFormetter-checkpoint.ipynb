{
 "cells": [
  {
   "cell_type": "code",
   "execution_count": 1,
   "metadata": {},
   "outputs": [],
   "source": [
    "import sys\n",
    "import os\n",
    "import json\n",
    "import pickle\n",
    "import shutil\n",
    "import numpy as np\n",
    "import pandas as pd\n",
    "\n",
    "\n",
    "class SingleShot(object):\n",
    "    \"\"\"docstring for singleShot\"\"\"\n",
    "    def __init__(self, id,\n",
    "                 origRGB_dir, json_dir, rawBMPs_dirs, CSVfull_dir, \n",
    "                 CSVcrop_dir, CSVspec_dir, RGBwithPOV_dir, BMPwithPOV_dir):\n",
    "        self.id       = id\n",
    "        \n",
    "        self.origRGB_dir      = origRGB_dir\n",
    "        self.json_dir         = json_dir\n",
    "        self.rawBMPs_dirs     = rawBMPs_dirs\n",
    "        \n",
    "        self.CSVcrop_dir    = CSVcrop_dir\n",
    "        self.CSVfull_dir    = CSVfull_dir\n",
    "        self.CSVspec_dir    = CSVspec_dir\n",
    "        self.RGBwithPOV_dir = RGBwithPOV_dir\n",
    "        self.BMPwithPOV_dir = BMPwithPOV_dir\n",
    "        \n",
    "        self.jsonDic = None\n",
    "        if self.json_dir != None:\n",
    "            if os.path.isfile(self.json_dir):\n",
    "                file = open(self.json_dir, 'r', encoding = 'utf-8')\n",
    "                self.jsonDic = json.loads(file.read())\n",
    "                file.close()\n",
    "\n"
   ]
  },
  {
   "cell_type": "code",
   "execution_count": 81,
   "metadata": {},
   "outputs": [],
   "source": [
    "class SetFormatter():\n",
    "    def __init__(self, directory, typeDictionary = None, from_gry = False):\n",
    "        self.dir = directory\n",
    "        self.dir_pcGen = os.path.join(self.dir, 'pcGen')\n",
    "        self.dir_pickle = os.path.join(self.dir, 'pcGen', 'dir_pickle.gry')\n",
    "        self.dir_pcGen_ref = os.path.join(self.dir, 'pcGen', 'reflection.gry')\n",
    "        if not from_gry:\n",
    "            self.Types = {}          #mostly associated with the downloading types\n",
    "            self.usingTypes = {}     #mostly associated with the types you want to use in your work\n",
    "            self.allFnames = {}\n",
    "            self.setWhichTypes(typeDictionary)\n",
    "            self.checkFiles()\n",
    "            self.usingUniqueID_inSeperateBuckets = []\n",
    "            self.numShots = 0\n",
    "            self.shots = []\n",
    "            self.ratio = pd.read_csv(\"ratio.csv\")\n",
    "\n",
    "            self.from_webGen  = 0\n",
    "            self.from_rawBMPs = 1\n",
    "        else:\n",
    "            self.load(self.dir_pickle)\n",
    "        \n",
    "    def setWhichTypes(self, tmpdict):\n",
    "        self.Types['origRGB']    = tmpdict['origRGB']    if (\"origRGB\"    in tmpdict) else False\n",
    "        self.Types['json']       = tmpdict['json']       if (\"json\"       in tmpdict) else False\n",
    "        self.Types['rawBMPs']    = tmpdict['rawBMPs']    if (\"rawBMPs\"    in tmpdict) else False\n",
    "        self.Types['CSVfull']    = tmpdict['CSVfull']    if (\"CSVfull\"    in tmpdict) else False\n",
    "        self.Types['CSVcrop']    = tmpdict['CSVcrop']    if (\"CSVcrop\"    in tmpdict) else False\n",
    "        self.Types['CSVspec']    = tmpdict['CSVspec']    if (\"CSVspec\"    in tmpdict) else False\n",
    "        self.Types['RGBwithPOV'] = tmpdict['RGBwithPOV'] if (\"RGBwithPOV\" in tmpdict) else False\n",
    "        self.Types['BMPwithPOV'] = tmpdict['BMPwithPOV'] if (\"BMPwithPOV\" in tmpdict) else False\n",
    "        \n",
    "    def dir_origRGB(self, ID):\n",
    "        os.path.join(directory, '{}.jpg'.format(ID))\n",
    "    def dir_json(self, ID):\n",
    "        os.path.join(directory, '{}.json'.format(ID))\n",
    "    def dir_rawBMPs(self, ID, i_th):\n",
    "        os.path.join(directory, 'rawBMPs', '{}_{}.bmp'.format(ID,i_th))\n",
    "    def dir_CSVfull(self, ID):\n",
    "        os.path.join(directory, 'webGen', '{}_full.csv'.format(ID))\n",
    "    def dir_CSVcrop(self, ID):\n",
    "        os.path.join(directory, 'webGen', '{}_crop.csv'.format(ID))\n",
    "    def dir_CSVspec(self, ID):\n",
    "        os.path.join(directory, 'webGen', '{}_spec_NDVI.csv'.format(ID))\n",
    "    def dir_RGBwithPOV(self, ID):\n",
    "        os.path.join(directory, 'webGen', '{}.jpeg'.format(ID))\n",
    "    def dir_BMPwithPOV(self, ID):\n",
    "        os.path.join(directory, 'webGen', '{}.png'.format(ID))\n",
    "    \n",
    "    def checkFiles(self):\n",
    "        self.allFnames['origRGB']    = [s for s in os.listdir(self.dir) if os.path.isfile(os.path.join(self.dir, s)) and '.jpg' in s]\n",
    "        self.allFnames['json']       = [s for s in os.listdir(self.dir) if os.path.isfile(os.path.join(self.dir, s)) and '.json' in s]\n",
    "        self.allFnames['rawBMPs']    = [s for s in os.listdir(os.path.join(self.dir,'rawBMPs')) if os.path.isfile(os.path.join(self.dir,'rawBMPs',s)) and '.bmp'           in s]\n",
    "        self.allFnames['CSVfull']    = [s for s in os.listdir(os.path.join(self.dir, 'webGen')) if os.path.isfile(os.path.join(self.dir, 'webGen',s)) and '_full.csv'      in s]\n",
    "        self.allFnames['CSVcrop']    = [s for s in os.listdir(os.path.join(self.dir, 'webGen')) if os.path.isfile(os.path.join(self.dir, 'webGen',s)) and '_crop.csv'      in s]\n",
    "        self.allFnames['CSVspec']    = [s for s in os.listdir(os.path.join(self.dir, 'webGen')) if os.path.isfile(os.path.join(self.dir, 'webGen',s)) and '_spec_NDVI.csv' in s]\n",
    "        self.allFnames['RGBwithPOV'] = [s for s in os.listdir(os.path.join(self.dir, 'webGen')) if os.path.isfile(os.path.join(self.dir, 'webGen',s)) and '.jpeg'          in s]\n",
    "        self.allFnames['BMPwithPOV'] = [s for s in os.listdir(os.path.join(self.dir, 'webGen')) if os.path.isfile(os.path.join(self.dir, 'webGen',s)) and '.png'           in s]\n",
    "    \n",
    "    def cleanFiles(self):\n",
    "        for s in os.listdir(self.dir):\n",
    "            ss = os.path.join(self.dir, s)\n",
    "\n",
    "            if os.path.isfile(ss):\n",
    "                if not (s in self.allFnames['origRGB'] or \n",
    "                        s in self.allFnames['json']):\n",
    "                    print(\"removed file:\", s)\n",
    "                    os.remove(ss)\n",
    "            if os.path.isdir(ss):\n",
    "                if (not s == \"rawBMPs\") and (not s == \"webGen\"):\n",
    "                    shutil.rmtree(ss)\n",
    "                    print(\"removed directory:\", s)\n",
    "                    \n",
    "        tmpdir = os.path.join(self.dir, 'rawBMPs')\n",
    "        for s in os.listdir(tmpdir):\n",
    "            ss = os.path.join(tmpdir, s)\n",
    "            if os.path.isfile(ss):\n",
    "                if not (s in self.allFnames['rawBMPs']):\n",
    "                    print(\"removed file: rawBMPs/\", s)\n",
    "                    os.remove(ss)                \n",
    "            if os.path.isdir(ss):\n",
    "                shutil.rmtree(ss)\n",
    "                print(\"removed directory: rawBMPs/\", s) \n",
    "        \n",
    "        tmpdir = os.path.join(self.dir, 'webGen')\n",
    "        for s in os.listdir(tmpdir):\n",
    "            ss = os.path.join(tmpdir, s)\n",
    "            if os.path.isfile(ss):\n",
    "                if not (s in self.allFnames['CSVfull'] or \n",
    "                        s in self.allFnames['CSVcrop'] or \n",
    "                        s in self.allFnames['CSVspec'] or \n",
    "                        s in self.allFnames['RGBwithPOV'] or \n",
    "                        s in self.allFnames['BMPwithPOV']):\n",
    "                    print(\"removed file: webGen/\", s)\n",
    "                    os.remove(ss)                \n",
    "            if os.path.isdir(ss):\n",
    "                shutil.rmtree(ss)\n",
    "                print(\"removed directory: webGen/\", s) \n",
    "    def read_ids(self, tmpdict, display = False):\n",
    "        self.usingTypes['origRGB']    = tmpdict['origRGB']    if (\"origRGB\"    in tmpdict) else False\n",
    "        self.usingTypes['json']       = tmpdict['json']       if (\"json\"       in tmpdict) else False\n",
    "        self.usingTypes['rawBMPs']    = tmpdict['rawBMPs']    if (\"rawBMPs\"    in tmpdict) else False\n",
    "        self.usingTypes['CSVfull']    = tmpdict['CSVfull']    if (\"CSVfull\"    in tmpdict) else False\n",
    "        self.usingTypes['CSVcrop']    = tmpdict['CSVcrop']    if (\"CSVcrop\"    in tmpdict) else False\n",
    "        self.usingTypes['CSVspec']    = tmpdict['CSVspec']    if (\"CSVspec\"    in tmpdict) else False\n",
    "        self.usingTypes['RGBwithPOV'] = tmpdict['RGBwithPOV'] if (\"RGBwithPOV\" in tmpdict) else False\n",
    "        self.usingTypes['BMPwithPOV'] = tmpdict['BMPwithPOV'] if (\"BMPwithPOV\" in tmpdict) else False\n",
    "        \n",
    "        self.usingUniqueID_inSeperateBuckets = []  #unique IDs over all set files (in seperate in their file types)\n",
    "        if self.usingTypes['origRGB']:\n",
    "            self.usingUniqueID_inSeperateBuckets.append([fname.split('.')[0]  for fname in self.allFnames['origRGB']])\n",
    "            print((\"origRGB   :unique count: {}\\n\".format(len(self.usingUniqueID_inSeperateBuckets[-1])) if display else ''),  end='')\n",
    "        if self.usingTypes['json']:\n",
    "            self.usingUniqueID_inSeperateBuckets.append([fname.split('.')[0]  for fname in self.allFnames['json']])\n",
    "            print((\"json      :unique count: {}\\n\".format(len(self.usingUniqueID_inSeperateBuckets[-1])) if display else ''),  end='')\n",
    "        if self.usingTypes['CSVfull']:\n",
    "            self.usingUniqueID_inSeperateBuckets.append([fname.split('_')[0] + '_'+ fname.split('_')[1]  for fname in self.allFnames['CSVfull']])\n",
    "            print((\"CSVfull   :unique count: {}\\n\".format(len(self.usingUniqueID_inSeperateBuckets[-1])) if display else ''),  end='')\n",
    "        if self.usingTypes['CSVcrop']:\n",
    "            self.usingUniqueID_inSeperateBuckets.append([fname.split('_')[0] + '_'+ fname.split('_')[1]  for fname in self.allFnames['CSVcrop']])\n",
    "            print((\"CSVcrop   :unique count: {}\\n\".format(len(self.usingUniqueID_inSeperateBuckets[-1])) if display else ''),  end='')\n",
    "        if self.usingTypes['CSVspec']:\n",
    "            self.usingUniqueID_inSeperateBuckets.append([fname.split('_')[0] + '_'+ fname.split('_')[1]  for fname in self.allFnames['CSVspec']])\n",
    "            print((\"CSVspec   :unique count: {}\\n\".format(len(self.usingUniqueID_inSeperateBuckets[-1])) if display else ''),  end='')\n",
    "        if self.usingTypes['RGBwithPOV']:\n",
    "            self.usingUniqueID_inSeperateBuckets.append([fname.split('.')[0]  for fname in self.allFnames['RGBwithPOV']])\n",
    "            print((\"RGBwithPOV:unique count: {}\\n\".format(len(self.usingUniqueID_inSeperateBuckets[-1])) if display else ''),  end='')\n",
    "        if self.usingTypes['BMPwithPOV']:\n",
    "            self.usingUniqueID_inSeperateBuckets.append([fname.split('.')[0]  for fname in self.allFnames['BMPwithPOV']])\n",
    "            print((\"BMPwithPOV:unique count: {}\\n\".format(len(self.usingUniqueID_inSeperateBuckets[-1])) if display else ''),  end='')\n",
    "        if self.usingTypes['rawBMPs']:\n",
    "            self.usingUniqueID_inSeperateBuckets.append(list(set([fname.split('_')[0] + '_'+ fname.split('_')[1]  for fname in self.allFnames['rawBMPs']])))\n",
    "            print((\"rawBMPs   :unique count: {}\\n\".format(len(self.usingUniqueID_inSeperateBuckets[-1])) if display else ''),  end='')\n",
    "            #self.usingUniqueID_inSeperateBuckets.append([fname.split('.')[0]  for fname in self.allFnames['rawBMPs']])\n",
    "            #since rawBMPs have multiple files in a single shot, and I want only ID's so I did following\n",
    "        \n",
    "        #now calculating unique IDs over all set of files\n",
    "        print((\"============================\\n\" if display else ''),  end='')\n",
    "\n",
    "        self.usingUniqueIDs = []\n",
    "        Tmp = len(self.usingUniqueID_inSeperateBuckets)\n",
    "        for i in range(len(self.usingUniqueID_inSeperateBuckets[0])):\n",
    "            tmpID = self.usingUniqueID_inSeperateBuckets[0][i]\n",
    "            tmpbool = True\n",
    "            for t in range(1,Tmp):\n",
    "                tmpbool = tmpbool and (tmpID in self.usingUniqueID_inSeperateBuckets[t])\n",
    "                if not tmpbool:\n",
    "                    print((\"- incomplete shot: {} has no {}\\n\".format(tmpID, list(tmpdict.keys())[t]) if display else ''),  end='')\n",
    "                    break\n",
    "            if tmpbool:\n",
    "                self.usingUniqueIDs.append(tmpID)\n",
    "           \n",
    "        self.usingUniqueIDs.sort()\n",
    "        self.numShots = len(self.usingUniqueIDs)\n",
    "        print((\"==============================================\\nIn Given types, {} unique shots in this Set.\\n\".format(self.numShots) if display else ''),  end='')\n",
    "        \n",
    "        \n",
    "        for i in range(self.numShots):\n",
    "            tmpid       = self.usingUniqueIDs[i]\n",
    "            tmp_dirorigRGB = os.path.join(self.dir,  '{}.jpg'.format(tmpid)) if self.usingTypes['origRGB']    else None\n",
    "            tmp_dirjson    = os.path.join(self.dir, '{}.json'.format(tmpid)) if self.usingTypes['json']       else None\n",
    "            tmp_dirrawBMPs = os.path.join(self.dir,'rawBMPs', '{}.jpeg'.format(tmpid)) if self.usingTypes['rawBMPs']    else None\n",
    "            tmp_dirCSVfull = os.path.join(self.dir,'webGen',  '{}_full.csv'.format(tmpid)) if self.usingTypes['CSVfull']    else None\n",
    "            tmp_dirCSVcrop = os.path.join(self.dir,'webGen',  '{}_crop.csv'.format(tmpid)) if self.usingTypes['CSVcrop']    else None\n",
    "            tmp_dirCSVspec = os.path.join(self.dir,'webGen',  '{}_spec_NDVI.csv'.format(tmpid)) if self.usingTypes['CSVspec']    else None\n",
    "            tmp_RGBwithPOV = os.path.join(self.dir,'webGen',  '{}.jpeg'.format(tmpid)) if self.usingTypes['RGBwithPOV'] else None\n",
    "            tmp_BMPwithPOV = os.path.join(self.dir,'webGen',   '{}.png'.format(tmpid)) if self.usingTypes['BMPwithPOV'] else None\n",
    "            self.shots.append(SingleShot(id             = tmpid,\n",
    "                                         origRGB_dir    = tmp_dirorigRGB, \n",
    "                                         json_dir       = tmp_dirjson, \n",
    "                                         rawBMPs_dirs   = tmp_dirrawBMPs, \n",
    "                                         CSVfull_dir    = tmp_dirCSVfull, \n",
    "                                         CSVcrop_dir    = tmp_dirCSVcrop,\n",
    "                                         CSVspec_dir    = tmp_dirCSVspec,\n",
    "                                         RGBwithPOV_dir = tmp_RGBwithPOV,\n",
    "                                         BMPwithPOV_dir = tmp_BMPwithPOV,\n",
    "                                        ))\n",
    "    def mkdir_pcGen(self):\n",
    "        if not (os.path.isdir(self.dir_pcGen)):\n",
    "            os.mkdir(self.dir_pcGen)\n",
    "            \n",
    "    def compose_pcGen_setWave(self, source, display = False):\n",
    "        self.mkdir_pcGen()\n",
    "        if self.numShots == 0:\n",
    "            print(\"None shots in the folder\")\n",
    "            return\n",
    "        if (source == self.from_webGen):\n",
    "            print((\"Composing wavelengths from webGen\\n\" if display else ''), end = '')\n",
    "            self.setWave = np.zeros((self.numShots, 1,280))\n",
    "            for i in range(self.numShots):\n",
    "                tmpPdWeb = pd.read_csv(self.shots[i].CSVfull_dir)\n",
    "                self.setWave[i,0,:]  = np.array(pd.read_csv(self.shots[i].CSVfull_dir)['WAVELENGTH'])\n",
    "            np.save(os.path.join(self.dir_pcGen, 'setWave'), self.setWave)\n",
    "            print((\"Saved as pcGen/setWave.npy\\n\" if display else ''), end = '')\n",
    "            return\n",
    "        elif (source == self.from_rawBMPs):\n",
    "            pass\n",
    "        \n",
    "    def compose_pcGen_setGray(self, source, display = False):\n",
    "        self.mkdir_pcGen()\n",
    "        if self.numShots == 0:\n",
    "            print(\"None shots in the folder\")\n",
    "            return\n",
    "        if (source == self.from_webGen):\n",
    "            print((\"Composing Gray pixel values from webGen\\n\" if display else ''), end = '')\n",
    "            self.setGray = np.zeros((self.numShots, 1,280))\n",
    "            for i in range(self.numShots):\n",
    "                tmpPdWeb = pd.read_csv(self.shots[i].CSVfull_dir)\n",
    "                self.setGray[i,0,:]  = np.array(pd.read_csv(self.shots[i].CSVfull_dir)['GRAY'])\n",
    "            np.save(os.path.join(self.dir_pcGen, 'setGray'), self.setGray)\n",
    "            print((\"Saved as pcGen/setGray.npy\\n\" if display else ''), end = '')\n",
    "            return\n",
    "        elif (source == self.from_rawBMPs):\n",
    "            pass\n",
    "        else:\n",
    "            print(\"Mistake: <source> wrong: source = ....from_webGen or ....from_rawBMPs\")\n",
    "            \n",
    "    def compose_pcGen_setLeaf(self, source, display = False):\n",
    "        self.mkdir_pcGen()\n",
    "        if self.numShots == 0:\n",
    "            print(\"None shots in the folder\")\n",
    "            return\n",
    "        if (source == self.from_webGen):\n",
    "            print((\"Composing Leaf pixel values from webGen\\n\" if display else ''), end = '')\n",
    "            self.setLeaf = np.zeros((self.numShots, 1,280))\n",
    "            for i in range(self.numShots):\n",
    "                tmpPdWeb = pd.read_csv(self.shots[i].CSVfull_dir)\n",
    "                self.setLeaf[i,0,:]  = np.array(pd.read_csv(self.shots[i].CSVfull_dir)['LEAF'])\n",
    "            np.save(os.path.join(self.dir_pcGen, 'setLeaf'), self.setLeaf)\n",
    "            print((\"Saved as pcGen/setLeaf.npy\\n\" if display else ''), end = '')\n",
    "            return\n",
    "        elif (source == self.from_rawBMPs):\n",
    "            pass\n",
    "        else:\n",
    "            print(\"Mistake: <source> wrong: source = ....from_webGen or ....from_rawBMPs\")\n",
    "    \n",
    "    def compose_pcGen_setMask(self, leafRange = [16,255], grayRange = [16,255], display = False):\n",
    "        self.setGray = np.load(os.path.join(self.dir_pcGen, 'setGray.npy'))\n",
    "        self.setLeaf = np.load(os.path.join(self.dir_pcGen, 'setLeaf.npy'))\n",
    "        maskLeaf = np.logical_and(self.setLeaf >= leafRange[0], self.setLeaf <= leafRange[1])\n",
    "        maskGray = np.logical_and(self.setGray >= grayRange[0], self.setGray <= grayRange[1])\n",
    "        self.setMask  = np.logical_and(maskLeaf, maskGray)\n",
    "        \n",
    "        np.save(os.path.join(self.dir_pcGen, 'setMask'), self.setMask)\n",
    "        print((\"Saved as pcGen/setMask.npy\\n\" if display else ''), end = '')\n",
    "#         self.setMask = np.logical_and(np.where())\n",
    "        \n",
    "    def compose_pcGen_setWhite(self, source, BG = 10.5, display = False):\n",
    "        self.mkdir_pcGen()\n",
    "        if self.numShots == 0:\n",
    "            print(\"None shots in the folder\")\n",
    "            return\n",
    "        if (source == self.from_webGen):\n",
    "            print((\"Composing Leaf pixel values from webGen\\n\" if display else ''), end = '')\n",
    "            self.setWhite  = np.zeros((self.numShots,1, 280))\n",
    "            for i in range(self.numShots):\n",
    "                tmpPdWeb = pd.read_csv(self.shots[i].CSVfull_dir)\n",
    "                tmpGray  = np.array(pd.read_csv(self.shots[i].CSVfull_dir)['GRAY'])\n",
    "                self.setWhite[i,0,:] = (tmpGray-BG)/np.array(self.ratio['GRAY/WHITE'])+BG\n",
    "            np.save(os.path.join(self.dir_pcGen, 'setWhite'), self.setLeaf)\n",
    "            print((\"Saved as pcGen/setWhite.npy\\n\" if display else ''), end = '')\n",
    "            return\n",
    "        elif (source == self.from_rawBMPs):\n",
    "            pass\n",
    "        else:\n",
    "            print(\"Mistake: <source> wrong: source = ....from_webGen or ....from_rawBMPs\")\n",
    "    \n",
    "        \n",
    "    def calcReflection(self,BG=10.5):\n",
    "        self.setWhite = np.load(os.path.join(self.dir_pcGen, 'setWhite.npy'))\n",
    "        self.setLeaf  = np.load(os.path.join(self.dir_pcGen, 'setLeaf.npy'))\n",
    "        self.setWave  = np.load(os.path.join(self.dir_pcGen, 'setWave.npy'))\n",
    "        if not(self.setWhite.shape == self.setLeaf.shape):\n",
    "            print(\"Err: shape of setWhite and setLeaf are not equal\")\n",
    "            return\n",
    "        self.numSection = self.setLeaf.shape[1]\n",
    "        self.Reflection = [{}] * self.numShots\n",
    "        for i in range(self.numShots):\n",
    "            for s in range(self.numSection):\n",
    "                tmpUsablePixelnum = np.sum(sf.setMask[i,s,:])\n",
    "                tmp = np.zeros((tmpUsablePixelnum, 2))\n",
    "                for j in range(tmpUsablePixelnum):\n",
    "                    tmp[:,0] = self.setWave[i,s,:][self.setMask[i,s,:]]\n",
    "                    tmp[:,1] = (self.setLeaf[i,s,:][self.setMask[i,s,:]]-BG)/(self.setWhite[i,s,:][self.setMask[i,s,:]]-BG)\n",
    "                self.Reflection[i]['section{}'.format(s)] = tmp\n",
    "                self.Reflection[i]['section{}_wavelength'.format(s)] = tmp[:,0]\n",
    "                self.Reflection[i]['section{}_reflection'.format(s)] = tmp[:,1]\n",
    "        file = open(self.dir_pcGen_ref, 'wb')\n",
    "        pickle.dump(self.Reflection, file)\n",
    "        file.close()                \n",
    "        \n",
    "        \n",
    "    def save(self):\n",
    "        file = open(self.dir_pickle, 'wb')\n",
    "        pickle.dump(self, file)\n",
    "        file.close()                \n",
    "    def load(self, _dir_):\n",
    "        #         print(_dir_)\n",
    "        file = open(self.dir_pickle, 'rb')\n",
    "        tmp = pickle.load(file)\n",
    "        self.__dict__ = tmp.__dict__\n",
    "        #         print(type(tmp.__dict__))\n",
    "        file.close()\n",
    "        print('read from {}'.format(self.dir_pickle))"
   ]
  },
  {
   "cell_type": "code",
   "execution_count": 82,
   "metadata": {},
   "outputs": [
    {
     "name": "stdout",
     "output_type": "stream",
     "text": [
      "origRGB   :unique count: 326\n",
      "json      :unique count: 326\n",
      "CSVfull   :unique count: 326\n",
      "CSVcrop   :unique count: 326\n",
      "CSVspec   :unique count: 326\n",
      "RGBwithPOV:unique count: 326\n",
      "BMPwithPOV:unique count: 326\n",
      "rawBMPs   :unique count: 326\n",
      "============================\n",
      "- incomplete shot: 20191221_111708 has no json\n",
      "==============================================\n",
      "In Given types, 325 unique shots in this Set.\n"
     ]
    }
   ],
   "source": [
    "Types = {\n",
    "    \"origRGB\"   : True,\n",
    "    \"json\"      : True,\n",
    "    \"rawBMPs\"   : True,\n",
    "    \"CSVfull\"   : True,\n",
    "    \"CSVcrop\"   : True,\n",
    "    \"CSVspec\"   : True,\n",
    "    \"RGBwithPOV\": True,\n",
    "    \"BMPwithPOV\": True,\n",
    "}\n",
    "sf = SetFormatter('/home/garid/myGit/spectrumCatcher/spectrumCatcher/tests/dname1221/13h_', Types)\n",
    "sf.read_ids(Types, display=True)"
   ]
  },
  {
   "cell_type": "code",
   "execution_count": 83,
   "metadata": {},
   "outputs": [
    {
     "name": "stdout",
     "output_type": "stream",
     "text": [
      "removed directory: pcGen\n"
     ]
    }
   ],
   "source": [
    "sf.cleanFiles()"
   ]
  },
  {
   "cell_type": "code",
   "execution_count": 84,
   "metadata": {},
   "outputs": [
    {
     "name": "stdout",
     "output_type": "stream",
     "text": [
      "Composing wavelengths from webGen\n",
      "Saved as pcGen/setWave.npy\n",
      "Composing Gray pixel values from webGen\n",
      "Saved as pcGen/setGray.npy\n",
      "Composing Leaf pixel values from webGen\n",
      "Saved as pcGen/setLeaf.npy\n",
      "Composing Leaf pixel values from webGen\n",
      "Saved as pcGen/setWhite.npy\n",
      "Saved as pcGen/setMask.npy\n"
     ]
    }
   ],
   "source": [
    "sf.compose_pcGen_setWave(sf.from_webGen, True)\n",
    "sf.compose_pcGen_setGray(sf.from_webGen, True)\n",
    "sf.compose_pcGen_setLeaf(sf.from_webGen, True)\n",
    "sf.compose_pcGen_setWhite(sf.from_webGen, BG=10.5,display=True)\n",
    "sf.compose_pcGen_setMask(display = True)"
   ]
  },
  {
   "cell_type": "code",
   "execution_count": 85,
   "metadata": {},
   "outputs": [],
   "source": [
    "sf.calcReflection()"
   ]
  },
  {
   "cell_type": "code",
   "execution_count": 87,
   "metadata": {},
   "outputs": [
    {
     "data": {
      "text/plain": [
       "array([ 442.6,  444.8,  447. ,  449.2,  451.4,  453.6,  455.8,  458. ,\n",
       "        460.2,  462.4,  464.6,  466.8,  469. ,  471.2,  473.4,  475.6,\n",
       "        477.8,  480. ,  482.2,  484.4,  486.6,  488.8,  491. ,  493.2,\n",
       "        495.4,  497.6,  499.8,  502. ,  504.2,  506.4,  508.6,  510.8,\n",
       "        513. ,  515.2,  517.4,  519.6,  521.8,  524. ,  526.2,  528.4,\n",
       "        530.6,  532.8,  535. ,  537.2,  539.4,  541.6,  543.8,  546. ,\n",
       "        548.2,  550.4,  552.6,  554.8,  557. ,  559.2,  561.4,  563.6,\n",
       "        565.8,  568. ,  570.2,  572.4,  574.6,  576.8,  579. ,  581.2,\n",
       "        583.4,  585.6,  587.8,  590. ,  592.2,  594.4,  596.6,  598.8,\n",
       "        601. ,  603.2,  605.4,  607.6,  609.8,  612. ,  614.2,  616.4,\n",
       "        618.6,  620.8,  623. ,  625.2,  627.4,  629.6,  631.8,  634. ,\n",
       "        636.2,  638.4,  640.6,  642.8,  645. ,  647.2,  649.4,  651.6,\n",
       "        653.8,  656. ,  658.2,  660.4,  662.6,  664.8,  667. ,  669.2,\n",
       "        671.4,  673.6,  675.8,  678. ,  680.2,  682.4,  684.6,  686.8,\n",
       "        689. ,  691.2,  693.4,  695.6,  697.8,  700. ,  702.2,  704.4,\n",
       "        706.6,  708.8,  711. ,  713.2,  715.4,  717.6,  719.8,  722. ,\n",
       "        724.2,  726.4,  728.6,  730.8,  733. ,  735.2,  737.4,  739.6,\n",
       "        741.8,  744. ,  746.2,  748.4,  750.6,  752.8,  755. ,  757.2,\n",
       "        759.4,  761.6,  763.8,  766. ,  768.2,  770.4,  772.6,  774.8,\n",
       "        777. ,  779.2,  781.4,  783.6,  785.8,  788. ,  790.2,  792.4,\n",
       "        794.6,  796.8,  799. ,  801.2,  803.4,  805.6,  807.8,  810. ,\n",
       "        812.2,  814.4,  816.6,  818.8,  821. ,  823.2,  825.4,  827.6,\n",
       "        829.8,  832. ,  834.2,  836.4,  838.6,  840.8,  843. ,  845.2,\n",
       "        847.4,  849.6,  851.8,  854. ,  856.2,  858.4,  860.6,  862.8,\n",
       "        865. ,  867.2,  869.4,  871.6,  873.8,  876. ,  878.2,  880.4,\n",
       "        882.6,  884.8,  887. ,  889.2,  891.4,  893.6,  895.8,  898. ,\n",
       "        900.2,  902.4,  904.6,  906.8,  909. ,  911.2,  913.4,  915.6,\n",
       "        917.8,  920. ,  922.2,  924.4,  926.6,  928.8,  931. ,  933.2,\n",
       "        935.4,  937.6,  939.8,  942. ,  944.2,  946.4,  948.6,  950.8,\n",
       "        953. ,  955.2,  957.4,  959.6,  961.8,  964. ,  966.2,  968.4,\n",
       "        970.6,  972.8,  975. ,  977.2,  979.4,  981.6,  983.8,  986. ,\n",
       "        988.2,  990.4,  992.6,  994.8,  997. ,  999.2, 1001.4, 1003.6,\n",
       "       1005.8, 1008. , 1010.2, 1012.4, 1014.6, 1016.8, 1019. , 1021.2,\n",
       "       1023.4, 1025.6, 1027.8, 1030. , 1032.2, 1034.4, 1036.6, 1038.8,\n",
       "       1041. , 1043.2, 1045.4, 1047.6, 1049.8, 1052. , 1054.2, 1056.4])"
      ]
     },
     "execution_count": 87,
     "metadata": {},
     "output_type": "execute_result"
    }
   ],
   "source": [
    "sf.Reflection[32][\"section0_wavelength\"]"
   ]
  },
  {
   "cell_type": "code",
   "execution_count": 56,
   "metadata": {
    "collapsed": true
   },
   "outputs": [
    {
     "data": {
      "text/plain": [
       "array([ 442.6,  444.8,  447. ,  449.2,  451.4,  453.6,  455.8,  458. ,\n",
       "        460.2,  462.4,  464.6,  466.8,  469. ,  471.2,  473.4,  475.6,\n",
       "        477.8,  480. ,  482.2,  484.4,  486.6,  488.8,  491. ,  493.2,\n",
       "        495.4,  497.6,  499.8,  502. ,  504.2,  506.4,  508.6,  510.8,\n",
       "        513. ,  515.2,  517.4,  519.6,  521.8,  524. ,  526.2,  528.4,\n",
       "        530.6,  532.8,  535. ,  537.2,  539.4,  541.6,  543.8,  546. ,\n",
       "        548.2,  550.4,  552.6,  554.8,  557. ,  559.2,  561.4,  563.6,\n",
       "        565.8,  568. ,  570.2,  572.4,  574.6,  576.8,  579. ,  581.2,\n",
       "        583.4,  585.6,  587.8,  590. ,  592.2,  594.4,  596.6,  598.8,\n",
       "        601. ,  603.2,  605.4,  607.6,  609.8,  612. ,  614.2,  616.4,\n",
       "        618.6,  620.8,  623. ,  625.2,  627.4,  629.6,  631.8,  634. ,\n",
       "        636.2,  638.4,  640.6,  642.8,  645. ,  647.2,  649.4,  651.6,\n",
       "        653.8,  656. ,  658.2,  660.4,  662.6,  664.8,  667. ,  669.2,\n",
       "        671.4,  673.6,  675.8,  678. ,  680.2,  682.4,  684.6,  686.8,\n",
       "        689. ,  691.2,  693.4,  695.6,  697.8,  700. ,  702.2,  704.4,\n",
       "        706.6,  708.8,  711. ,  713.2,  715.4,  717.6,  719.8,  722. ,\n",
       "        724.2,  726.4,  728.6,  730.8,  733. ,  735.2,  737.4,  739.6,\n",
       "        741.8,  744. ,  746.2,  748.4,  750.6,  752.8,  755. ,  757.2,\n",
       "        759.4,  761.6,  763.8,  766. ,  768.2,  770.4,  772.6,  774.8,\n",
       "        777. ,  779.2,  781.4,  783.6,  785.8,  788. ,  790.2,  792.4,\n",
       "        794.6,  796.8,  799. ,  801.2,  803.4,  805.6,  807.8,  810. ,\n",
       "        812.2,  814.4,  816.6,  818.8,  821. ,  823.2,  825.4,  827.6,\n",
       "        829.8,  832. ,  834.2,  836.4,  838.6,  840.8,  843. ,  845.2,\n",
       "        847.4,  849.6,  851.8,  854. ,  856.2,  858.4,  860.6,  862.8,\n",
       "        865. ,  867.2,  869.4,  871.6,  873.8,  876. ,  878.2,  880.4,\n",
       "        882.6,  884.8,  887. ,  889.2,  891.4,  893.6,  895.8,  898. ,\n",
       "        900.2,  902.4,  904.6,  906.8,  909. ,  911.2,  913.4,  915.6,\n",
       "        917.8,  920. ,  922.2,  924.4,  926.6,  928.8,  931. ,  933.2,\n",
       "        935.4,  937.6,  939.8,  942. ,  944.2,  946.4,  948.6,  950.8,\n",
       "        953. ,  955.2,  957.4,  959.6,  961.8,  964. ,  966.2,  968.4,\n",
       "        970.6,  972.8,  975. ,  977.2,  979.4,  981.6,  983.8,  986. ,\n",
       "        988.2,  990.4,  992.6,  994.8,  997. ,  999.2, 1001.4, 1003.6,\n",
       "       1005.8, 1008. , 1010.2, 1012.4, 1014.6, 1016.8, 1019. , 1021.2,\n",
       "       1023.4, 1025.6, 1027.8, 1030. , 1032.2, 1034.4, 1036.6, 1038.8,\n",
       "       1041. , 1043.2, 1045.4, 1047.6, 1049.8, 1052. , 1054.2, 1056.4])"
      ]
     },
     "execution_count": 56,
     "metadata": {},
     "output_type": "execute_result"
    }
   ],
   "source": [
    "sf.setWave[0,0,:][sf.setMask[0,0,:]]"
   ]
  },
  {
   "cell_type": "code",
   "execution_count": 39,
   "metadata": {},
   "outputs": [
    {
     "data": {
      "text/plain": [
       "(91000,)"
      ]
     },
     "execution_count": 39,
     "metadata": {},
     "output_type": "execute_result"
    }
   ],
   "source": [
    "sf.setWhite[sf.setMask]"
   ]
  },
  {
   "cell_type": "code",
   "execution_count": 54,
   "metadata": {},
   "outputs": [
    {
     "name": "stdout",
     "output_type": "stream",
     "text": [
      "read from /home/garid/myGithub/spectrumCatcher/spectrumCatcher/tests/dname1221/13h_/pcGen/dir_pickle.gry\n"
     ]
    }
   ],
   "source": [
    "s = SetFormatter('/home/garid/myGithub/spectrumCatcher/spectrumCatcher/tests/dname1221/13h_', from_gry = True)\n"
   ]
  },
  {
   "cell_type": "code",
   "execution_count": 51,
   "metadata": {},
   "outputs": [
    {
     "data": {
      "text/plain": [
       "dict_keys(['dir', 'dir_pcGen', 'dir_pickle', 'Types', 'usingTypes', 'allFnames', 'usingUniqueID_inSeperateBuckets', 'numShots', 'shots', 'ratio', 'from_webGen', 'from_rawBMPs', 'usingUniqueIDs', 'setWave', 'setGray', 'setLeaf', 'setWhite', 'setMask'])"
      ]
     },
     "execution_count": 51,
     "metadata": {},
     "output_type": "execute_result"
    }
   ],
   "source": [
    "s.__dict__.keys()\n"
   ]
  },
  {
   "cell_type": "code",
   "execution_count": 52,
   "metadata": {
    "scrolled": false
   },
   "outputs": [
    {
     "data": {
      "text/plain": [
       "array([[[ 89.2285086 ,  90.18132825,  91.02978351, ...,  16.42225692,\n",
       "          16.42225692,  16.42225692]],\n",
       "\n",
       "       [[ 86.56290817,  88.44068421,  88.82459325, ...,  16.42225692,\n",
       "          16.42225692,  16.42225692]],\n",
       "\n",
       "       [[341.20771691, 341.36965254, 342.85175474, ...,  16.42225692,\n",
       "          16.42225692,  16.42225692]],\n",
       "\n",
       "       ...,\n",
       "\n",
       "       [[387.53585233, 389.43820714, 390.65328762, ...,  16.42225692,\n",
       "          16.42225692,  16.42225692]],\n",
       "\n",
       "       [[355.62861522, 357.57103167, 358.28808659, ...,  16.42225692,\n",
       "          16.42225692,  16.42225692]],\n",
       "\n",
       "       [[390.60129282, 392.98644306, 394.01485814, ...,  16.42225692,\n",
       "          16.42225692,  16.42225692]]])"
      ]
     },
     "execution_count": 52,
     "metadata": {},
     "output_type": "execute_result"
    }
   ],
   "source": [
    "s.setWhite"
   ]
  },
  {
   "cell_type": "code",
   "execution_count": 27,
   "metadata": {},
   "outputs": [],
   "source": [
    "a = [{}] *4"
   ]
  },
  {
   "cell_type": "code",
   "execution_count": 29,
   "metadata": {},
   "outputs": [],
   "source": [
    "a[0]['asf'] = 2"
   ]
  },
  {
   "cell_type": "code",
   "execution_count": 30,
   "metadata": {},
   "outputs": [
    {
     "data": {
      "text/plain": [
       "[{'asf': 2}, {'asf': 2}, {'asf': 2}, {'asf': 2}]"
      ]
     },
     "execution_count": 30,
     "metadata": {},
     "output_type": "execute_result"
    }
   ],
   "source": [
    "a"
   ]
  },
  {
   "cell_type": "code",
   "execution_count": null,
   "metadata": {},
   "outputs": [],
   "source": []
  }
 ],
 "metadata": {
  "kernelspec": {
   "display_name": "Python 3",
   "language": "python",
   "name": "python3"
  },
  "language_info": {
   "codemirror_mode": {
    "name": "ipython",
    "version": 3
   },
   "file_extension": ".py",
   "mimetype": "text/x-python",
   "name": "python",
   "nbconvert_exporter": "python",
   "pygments_lexer": "ipython3",
   "version": "3.8.5"
  }
 },
 "nbformat": 4,
 "nbformat_minor": 4
}
